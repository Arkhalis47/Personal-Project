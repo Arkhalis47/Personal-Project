{
 "cells": [
  {
   "cell_type": "markdown",
   "id": "df578a94",
   "metadata": {},
   "source": [
    "Import stuff"
   ]
  },
  {
   "cell_type": "code",
   "execution_count": 1,
   "id": "85ca2178",
   "metadata": {},
   "outputs": [],
   "source": [
    "from pymongo import MongoClient\n",
    "from pprint import pprint\n",
    "from datetime import datetime, timedelta\n",
    "from time import sleep\n",
    "from json import dumps\n",
    "from kafka3 import KafkaProducer\n",
    "import random\n",
    "import csv"
   ]
  },
  {
   "cell_type": "code",
   "execution_count": 2,
   "id": "ce511ad6",
   "metadata": {},
   "outputs": [],
   "source": [
    "ip_address = \"YOUR IP\"\n",
    "client = MongoClient(f\"{ip_address}\", 27017)\n",
    "db = client.fit3182_assignment_db\n",
    "collection = db.climate_hotspot\n",
    "query = collection.aggregate([{\"$project\" : {\"_id\" : 0, \"date\" : 1}}, {\"$sort\" : {\"date\" : -1}}, {\"$limit\" : 1}])\n",
    "start_date = query.__next__()[\"date\"]"
   ]
  },
  {
   "cell_type": "code",
   "execution_count": 3,
   "id": "250e886b",
   "metadata": {},
   "outputs": [
    {
     "data": {
      "text/plain": [
       "datetime.datetime(2023, 1, 1, 0, 0)"
      ]
     },
     "execution_count": 3,
     "metadata": {},
     "output_type": "execute_result"
    }
   ],
   "source": [
    "start_date"
   ]
  },
  {
   "cell_type": "markdown",
   "id": "af19ced9",
   "metadata": {},
   "source": [
    "Now we can load the data from climate_streaming.csv"
   ]
  },
  {
   "cell_type": "code",
   "execution_count": 4,
   "id": "5a08eaad",
   "metadata": {},
   "outputs": [],
   "source": [
    "climate_data = []\n",
    "with open(\"climate_streaming.csv\", \"r\") as climate_file:\n",
    "    for climate in csv.DictReader(climate_file):\n",
    "        ##change some data type\n",
    "        climate[\"latitude\"] = float(climate[\"latitude\"])\n",
    "        climate[\"longitude\"] = float(climate[\"longitude\"])\n",
    "        climate[\"air_temperature_celcius\"] = int(climate[\"air_temperature_celcius\"])\n",
    "        climate[\"relative_humidity\"] = float(climate[\"relative_humidity\"])\n",
    "        climate[\"windspeed_knots\"] = float(climate[\"windspeed_knots\"])\n",
    "        climate[\"max_wind_speed\"] = float(climate[\"max_wind_speed\"])\n",
    "        climate[\"GHI_w/m2\"] = int(climate[\"GHI_w/m2\"])\n",
    "        climate[\"precipitation_value\"] = float(climate[\"precipitation \"][:-1])\n",
    "        climate[\"precipitation_type\"] = climate[\"precipitation \"][-1:]\n",
    "        climate_data.append(climate)"
   ]
  },
  {
   "cell_type": "markdown",
   "id": "d57f7326",
   "metadata": {},
   "source": [
    "Now to see a preview of the data to pass to the producer"
   ]
  },
  {
   "cell_type": "code",
   "execution_count": 5,
   "id": "3bcfff4d",
   "metadata": {},
   "outputs": [],
   "source": [
    "data = {\"datetime\" : str(start_date.strftime(\"%d/%m/%Y %H:%M:%S\")), \"climate\" : climate_data[random.randrange(0,len(climate_data))]}"
   ]
  },
  {
   "cell_type": "code",
   "execution_count": 6,
   "id": "ae3e8ca5",
   "metadata": {},
   "outputs": [
    {
     "data": {
      "text/plain": [
       "{'datetime': '01/01/2023 00:00:00',\n",
       " 'climate': {'latitude': -37.945,\n",
       "  'longitude': 144.354,\n",
       "  'air_temperature_celcius': 24,\n",
       "  'relative_humidity': 55.6,\n",
       "  'windspeed_knots': 5.9,\n",
       "  'max_wind_speed': 13.0,\n",
       "  'precipitation ': ' 0.00I',\n",
       "  'GHI_w/m2': 196,\n",
       "  'precipitation_value': 0.0,\n",
       "  'precipitation_type': 'I'}}"
      ]
     },
     "execution_count": 6,
     "metadata": {},
     "output_type": "execute_result"
    }
   ],
   "source": [
    "data"
   ]
  },
  {
   "cell_type": "markdown",
   "id": "45d88493",
   "metadata": {},
   "source": [
    "Now to setup the kafka producer"
   ]
  },
  {
   "cell_type": "code",
   "execution_count": 7,
   "id": "3192d52c",
   "metadata": {},
   "outputs": [],
   "source": [
    "host_ip = \"YOUR IP\"\n",
    "\n",
    "def publish_message(producer_instance, topic_name, key, data):\n",
    "    try:\n",
    "        key_bytes = bytes(key, encoding='utf-8')\n",
    "        producer_instance.send(topic_name, key=key_bytes, value=data)\n",
    "        producer_instance.flush()\n",
    "        print('Message published successfully. Data: ' + str(data))\n",
    "    except Exception as ex:\n",
    "        print('Exception in publishing message.')\n",
    "        print(str(ex))\n",
    "        \n",
    "def connect_kafka_producer():\n",
    "    _producer = None\n",
    "    try:\n",
    "        _producer = KafkaProducer(bootstrap_servers=[f'{host_ip}:9092'],\n",
    "                                  value_serializer=lambda x:dumps(x).encode('ascii'),\n",
    "                                  api_version=(0, 10))\n",
    "    except Exception as ex:\n",
    "        print('Exception while connecting Kafka.')\n",
    "        print(str(ex))\n",
    "    finally:\n",
    "        return _producer"
   ]
  },
  {
   "cell_type": "code",
   "execution_count": 8,
   "id": "ac763c02",
   "metadata": {},
   "outputs": [
    {
     "name": "stdout",
     "output_type": "stream",
     "text": [
      "Publishing records..\n",
      "Message published successfully. Data: {'datetime': '01/01/2023 00:00:00', 'climate': {'latitude': -37.63, 'longitude': 149.232, 'air_temperature_celcius': 18, 'relative_humidity': 57.0, 'windspeed_knots': 7.4, 'max_wind_speed': 15.0, 'precipitation ': ' 0.00I', 'GHI_w/m2': 145, 'precipitation_value': 0.0, 'precipitation_type': 'I'}}\n",
      "Message published successfully. Data: {'datetime': '02/01/2023 00:00:00', 'climate': {'latitude': -37.013, 'longitude': 141.5355, 'air_temperature_celcius': 10, 'relative_humidity': 44.1, 'windspeed_knots': 7.3, 'max_wind_speed': 12.0, 'precipitation ': ' 0.39G', 'GHI_w/m2': 90, 'precipitation_value': 0.39, 'precipitation_type': 'G'}}\n",
      "Message published successfully. Data: {'datetime': '03/01/2023 00:00:00', 'climate': {'latitude': -36.4274, 'longitude': 142.1944, 'air_temperature_celcius': 22, 'relative_humidity': 46.9, 'windspeed_knots': 12.9, 'max_wind_speed': 19.0, 'precipitation ': ' 0.00I', 'GHI_w/m2': 193, 'precipitation_value': 0.0, 'precipitation_type': 'I'}}\n",
      "Message published successfully. Data: {'datetime': '04/01/2023 00:00:00', 'climate': {'latitude': -37.856, 'longitude': 143.416, 'air_temperature_celcius': 15, 'relative_humidity': 53.7, 'windspeed_knots': 6.8, 'max_wind_speed': 11.1, 'precipitation ': ' 0.51G', 'GHI_w/m2': 125, 'precipitation_value': 0.51, 'precipitation_type': 'G'}}\n",
      "Message published successfully. Data: {'datetime': '05/01/2023 00:00:00', 'climate': {'latitude': -37.0046, 'longitude': 141.8047, 'air_temperature_celcius': 10, 'relative_humidity': 41.4, 'windspeed_knots': 6.9, 'max_wind_speed': 8.9, 'precipitation ': ' 0.00G', 'GHI_w/m2': 92, 'precipitation_value': 0.0, 'precipitation_type': 'G'}}\n",
      "Message published successfully. Data: {'datetime': '06/01/2023 00:00:00', 'climate': {'latitude': -36.748, 'longitude': 144.168, 'air_temperature_celcius': 11, 'relative_humidity': 48.2, 'windspeed_knots': 10.8, 'max_wind_speed': 22.9, 'precipitation ': ' 0.59G', 'GHI_w/m2': 96, 'precipitation_value': 0.59, 'precipitation_type': 'G'}}\n",
      "Message published successfully. Data: {'datetime': '07/01/2023 00:00:00', 'climate': {'latitude': -36.2111, 'longitude': 141.505, 'air_temperature_celcius': 24, 'relative_humidity': 55.5, 'windspeed_knots': 7.9, 'max_wind_speed': 15.0, 'precipitation ': ' 0.00I', 'GHI_w/m2': 196, 'precipitation_value': 0.0, 'precipitation_type': 'I'}}\n",
      "Message published successfully. Data: {'datetime': '08/01/2023 00:00:00', 'climate': {'latitude': -36.759, 'longitude': 144.158, 'air_temperature_celcius': 14, 'relative_humidity': 52.5, 'windspeed_knots': 7.0, 'max_wind_speed': 13.0, 'precipitation ': ' 0.00G', 'GHI_w/m2': 118, 'precipitation_value': 0.0, 'precipitation_type': 'G'}}\n",
      "Message published successfully. Data: {'datetime': '09/01/2023 00:00:00', 'climate': {'latitude': -37.926, 'longitude': 144.0898, 'air_temperature_celcius': 15, 'relative_humidity': 51.0, 'windspeed_knots': 9.0, 'max_wind_speed': 13.0, 'precipitation ': ' 1.26G', 'GHI_w/m2': 128, 'precipitation_value': 1.26, 'precipitation_type': 'G'}}\n",
      "Message published successfully. Data: {'datetime': '10/01/2023 00:00:00', 'climate': {'latitude': -37.864, 'longitude': 144.174, 'air_temperature_celcius': 28, 'relative_humidity': 58.4, 'windspeed_knots': 11.9, 'max_wind_speed': 18.1, 'precipitation ': ' 0.04G', 'GHI_w/m2': 223, 'precipitation_value': 0.04, 'precipitation_type': 'G'}}\n",
      "Message published successfully. Data: {'datetime': '11/01/2023 00:00:00', 'climate': {'latitude': -36.0459, 'longitude': 143.8907, 'air_temperature_celcius': 21, 'relative_humidity': 58.7, 'windspeed_knots': 7.8, 'max_wind_speed': 13.0, 'precipitation ': ' 0.00I', 'GHI_w/m2': 167, 'precipitation_value': 0.0, 'precipitation_type': 'I'}}\n",
      "Message published successfully. Data: {'datetime': '12/01/2023 00:00:00', 'climate': {'latitude': -37.091, 'longitude': 145.362, 'air_temperature_celcius': 12, 'relative_humidity': 48.8, 'windspeed_knots': 4.2, 'max_wind_speed': 7.0, 'precipitation ': ' 0.00I', 'GHI_w/m2': 104, 'precipitation_value': 0.0, 'precipitation_type': 'I'}}\n",
      "Message published successfully. Data: {'datetime': '13/01/2023 00:00:00', 'climate': {'latitude': -36.3782, 'longitude': 143.7313, 'air_temperature_celcius': 17, 'relative_humidity': 44.9, 'windspeed_knots': 16.1, 'max_wind_speed': 27.0, 'precipitation ': ' 0.24G', 'GHI_w/m2': 152, 'precipitation_value': 0.24, 'precipitation_type': 'G'}}\n",
      "Message published successfully. Data: {'datetime': '14/01/2023 00:00:00', 'climate': {'latitude': -36.277, 'longitude': 146.165, 'air_temperature_celcius': 20, 'relative_humidity': 57.0, 'windspeed_knots': 8.7, 'max_wind_speed': 13.0, 'precipitation ': ' 0.00I', 'GHI_w/m2': 161, 'precipitation_value': 0.0, 'precipitation_type': 'I'}}\n",
      "Message published successfully. Data: {'datetime': '15/01/2023 00:00:00', 'climate': {'latitude': -37.437, 'longitude': 148.104, 'air_temperature_celcius': 12, 'relative_humidity': 40.7, 'windspeed_knots': 16.7, 'max_wind_speed': 21.0, 'precipitation ': ' 0.12G', 'GHI_w/m2': 111, 'precipitation_value': 0.12, 'precipitation_type': 'G'}}\n",
      "Message published successfully. Data: {'datetime': '16/01/2023 00:00:00', 'climate': {'latitude': -36.952, 'longitude': 144.972, 'air_temperature_celcius': 21, 'relative_humidity': 57.3, 'windspeed_knots': 5.4, 'max_wind_speed': 9.9, 'precipitation ': ' 0.00I', 'GHI_w/m2': 169, 'precipitation_value': 0.0, 'precipitation_type': 'I'}}\n",
      "Message published successfully. Data: {'datetime': '17/01/2023 00:00:00', 'climate': {'latitude': -36.098, 'longitude': 143.74, 'air_temperature_celcius': 17, 'relative_humidity': 59.3, 'windspeed_knots': 4.2, 'max_wind_speed': 7.0, 'precipitation ': ' 0.01G', 'GHI_w/m2': 134, 'precipitation_value': 0.01, 'precipitation_type': 'G'}}\n",
      "Message published successfully. Data: {'datetime': '18/01/2023 00:00:00', 'climate': {'latitude': -35.89, 'longitude': 145.606, 'air_temperature_celcius': 15, 'relative_humidity': 45.6, 'windspeed_knots': 10.2, 'max_wind_speed': 15.0, 'precipitation ': ' 0.00G', 'GHI_w/m2': 133, 'precipitation_value': 0.0, 'precipitation_type': 'G'}}\n",
      "Message published successfully. Data: {'datetime': '19/01/2023 00:00:00', 'climate': {'latitude': -35.6374, 'longitude': 142.3787, 'air_temperature_celcius': 14, 'relative_humidity': 41.6, 'windspeed_knots': 13.1, 'max_wind_speed': 18.1, 'precipitation ': ' 0.00I', 'GHI_w/m2': 128, 'precipitation_value': 0.0, 'precipitation_type': 'I'}}\n",
      "Message published successfully. Data: {'datetime': '20/01/2023 00:00:00', 'climate': {'latitude': -37.477, 'longitude': 148.097, 'air_temperature_celcius': 8, 'relative_humidity': 42.6, 'windspeed_knots': 2.0, 'max_wind_speed': 6.0, 'precipitation ': ' 0.00I', 'GHI_w/m2': 73, 'precipitation_value': 0.0, 'precipitation_type': 'I'}}\n",
      "Message published successfully. Data: {'datetime': '21/01/2023 00:00:00', 'climate': {'latitude': -36.1002, 'longitude': 142.3405, 'air_temperature_celcius': 23, 'relative_humidity': 49.6, 'windspeed_knots': 6.3, 'max_wind_speed': 13.0, 'precipitation ': ' 0.00I', 'GHI_w/m2': 198, 'precipitation_value': 0.0, 'precipitation_type': 'I'}}\n",
      "Message published successfully. Data: {'datetime': '22/01/2023 00:00:00', 'climate': {'latitude': -36.1462, 'longitude': 145.2096, 'air_temperature_celcius': 10, 'relative_humidity': 43.6, 'windspeed_knots': 9.7, 'max_wind_speed': 14.0, 'precipitation ': ' 0.20G', 'GHI_w/m2': 90, 'precipitation_value': 0.2, 'precipitation_type': 'G'}}\n",
      "Message published successfully. Data: {'datetime': '23/01/2023 00:00:00', 'climate': {'latitude': -35.0889, 'longitude': 141.2419, 'air_temperature_celcius': 12, 'relative_humidity': 44.4, 'windspeed_knots': 7.8, 'max_wind_speed': 14.0, 'precipitation ': ' 0.00G', 'GHI_w/m2': 108, 'precipitation_value': 0.0, 'precipitation_type': 'G'}}\n",
      "Message published successfully. Data: {'datetime': '24/01/2023 00:00:00', 'climate': {'latitude': -37.633, 'longitude': 149.264, 'air_temperature_celcius': 16, 'relative_humidity': 50.9, 'windspeed_knots': 12.9, 'max_wind_speed': 21.0, 'precipitation ': ' 0.03G', 'GHI_w/m2': 136, 'precipitation_value': 0.03, 'precipitation_type': 'G'}}\n",
      "Message published successfully. Data: {'datetime': '25/01/2023 00:00:00', 'climate': {'latitude': -35.954, 'longitude': 141.076, 'air_temperature_celcius': 10, 'relative_humidity': 42.1, 'windspeed_knots': 9.4, 'max_wind_speed': 15.0, 'precipitation ': ' 0.13B', 'GHI_w/m2': 91, 'precipitation_value': 0.13, 'precipitation_type': 'B'}}\n"
     ]
    },
    {
     "name": "stdout",
     "output_type": "stream",
     "text": [
      "Message published successfully. Data: {'datetime': '26/01/2023 00:00:00', 'climate': {'latitude': -37.396, 'longitude': 148.086, 'air_temperature_celcius': 15, 'relative_humidity': 41.6, 'windspeed_knots': 15.0, 'max_wind_speed': 28.0, 'precipitation ': ' 0.00I', 'GHI_w/m2': 138, 'precipitation_value': 0.0, 'precipitation_type': 'I'}}\n",
      "Message published successfully. Data: {'datetime': '27/01/2023 00:00:00', 'climate': {'latitude': -37.633, 'longitude': 149.264, 'air_temperature_celcius': 16, 'relative_humidity': 50.9, 'windspeed_knots': 12.9, 'max_wind_speed': 21.0, 'precipitation ': ' 0.03G', 'GHI_w/m2': 136, 'precipitation_value': 0.03, 'precipitation_type': 'G'}}\n",
      "Message published successfully. Data: {'datetime': '28/01/2023 00:00:00', 'climate': {'latitude': -37.189, 'longitude': 146.791, 'air_temperature_celcius': 21, 'relative_humidity': 61.1, 'windspeed_knots': 6.6, 'max_wind_speed': 11.1, 'precipitation ': ' 0.00I', 'GHI_w/m2': 163, 'precipitation_value': 0.0, 'precipitation_type': 'I'}}\n",
      "Message published successfully. Data: {'datetime': '29/01/2023 00:00:00', 'climate': {'latitude': -37.538, 'longitude': 148.895, 'air_temperature_celcius': 6, 'relative_humidity': 37.1, 'windspeed_knots': 5.8, 'max_wind_speed': 9.9, 'precipitation ': ' 0.00I', 'GHI_w/m2': 57, 'precipitation_value': 0.0, 'precipitation_type': 'I'}}\n",
      "Message published successfully. Data: {'datetime': '30/01/2023 00:00:00', 'climate': {'latitude': -37.585, 'longitude': 149.336, 'air_temperature_celcius': 17, 'relative_humidity': 52.5, 'windspeed_knots': 6.7, 'max_wind_speed': 12.0, 'precipitation ': ' 0.00G', 'GHI_w/m2': 143, 'precipitation_value': 0.0, 'precipitation_type': 'G'}}\n",
      "Message published successfully. Data: {'datetime': '31/01/2023 00:00:00', 'climate': {'latitude': -37.368, 'longitude': 148.05, 'air_temperature_celcius': 10, 'relative_humidity': 41.4, 'windspeed_knots': 9.4, 'max_wind_speed': 14.0, 'precipitation ': ' 0.00I', 'GHI_w/m2': 92, 'precipitation_value': 0.0, 'precipitation_type': 'I'}}\n",
      "Message published successfully. Data: {'datetime': '01/02/2023 00:00:00', 'climate': {'latitude': -37.332, 'longitude': 143.375, 'air_temperature_celcius': 21, 'relative_humidity': 51.7, 'windspeed_knots': 7.2, 'max_wind_speed': 13.0, 'precipitation ': ' 0.00I', 'GHI_w/m2': 177, 'precipitation_value': 0.0, 'precipitation_type': 'I'}}\n",
      "Message published successfully. Data: {'datetime': '02/02/2023 00:00:00', 'climate': {'latitude': -36.5243, 'longitude': 142.0839, 'air_temperature_celcius': 9, 'relative_humidity': 43.9, 'windspeed_knots': 5.7, 'max_wind_speed': 9.9, 'precipitation ': ' 0.00G', 'GHI_w/m2': 81, 'precipitation_value': 0.0, 'precipitation_type': 'G'}}\n",
      "Message published successfully. Data: {'datetime': '03/02/2023 00:00:00', 'climate': {'latitude': -36.059, 'longitude': 143.7718, 'air_temperature_celcius': 18, 'relative_humidity': 53.8, 'windspeed_knots': 6.4, 'max_wind_speed': 11.1, 'precipitation ': ' 0.00I', 'GHI_w/m2': 149, 'precipitation_value': 0.0, 'precipitation_type': 'I'}}\n",
      "Message published successfully. Data: {'datetime': '04/02/2023 00:00:00', 'climate': {'latitude': -37.4437, 'longitude': 143.4924, 'air_temperature_celcius': 13, 'relative_humidity': 50.7, 'windspeed_knots': 6.1, 'max_wind_speed': 13.0, 'precipitation ': ' 0.00I', 'GHI_w/m2': 111, 'precipitation_value': 0.0, 'precipitation_type': 'I'}}\n",
      "Message published successfully. Data: {'datetime': '05/02/2023 00:00:00', 'climate': {'latitude': -36.3114, 'longitude': 142.7605, 'air_temperature_celcius': 28, 'relative_humidity': 56.7, 'windspeed_knots': 9.3, 'max_wind_speed': 16.9, 'precipitation ': ' 0.00I', 'GHI_w/m2': 227, 'precipitation_value': 0.0, 'precipitation_type': 'I'}}\n",
      "Message published successfully. Data: {'datetime': '06/02/2023 00:00:00', 'climate': {'latitude': -36.3823, 'longitude': 141.3146, 'air_temperature_celcius': 10, 'relative_humidity': 43.7, 'windspeed_knots': 9.5, 'max_wind_speed': 13.0, 'precipitation ': ' 0.08G', 'GHI_w/m2': 90, 'precipitation_value': 0.08, 'precipitation_type': 'G'}}\n",
      "Message published successfully. Data: {'datetime': '07/02/2023 00:00:00', 'climate': {'latitude': -37.856, 'longitude': 143.416, 'air_temperature_celcius': 14, 'relative_humidity': 51.0, 'windspeed_knots': 9.1, 'max_wind_speed': 12.0, 'precipitation ': ' 0.00G', 'GHI_w/m2': 119, 'precipitation_value': 0.0, 'precipitation_type': 'G'}}\n",
      "Message published successfully. Data: {'datetime': '08/02/2023 00:00:00', 'climate': {'latitude': -37.7836, 'longitude': 141.4711, 'air_temperature_celcius': 12, 'relative_humidity': 44.5, 'windspeed_knots': 11.1, 'max_wind_speed': 15.0, 'precipitation ': ' 0.00G', 'GHI_w/m2': 108, 'precipitation_value': 0.0, 'precipitation_type': 'G'}}\n",
      "Message published successfully. Data: {'datetime': '09/02/2023 00:00:00', 'climate': {'latitude': -36.3328, 'longitude': 146.0355, 'air_temperature_celcius': 7, 'relative_humidity': 37.2, 'windspeed_knots': 6.2, 'max_wind_speed': 16.9, 'precipitation ': ' 0.08G', 'GHI_w/m2': 66, 'precipitation_value': 0.08, 'precipitation_type': 'G'}}\n",
      "Message published successfully. Data: {'datetime': '10/02/2023 00:00:00', 'climate': {'latitude': -37.635, 'longitude': 149.303, 'air_temperature_celcius': 24, 'relative_humidity': 53.4, 'windspeed_knots': 9.9, 'max_wind_speed': 15.9, 'precipitation ': ' 0.00I', 'GHI_w/m2': 200, 'precipitation_value': 0.0, 'precipitation_type': 'I'}}\n",
      "Message published successfully. Data: {'datetime': '11/02/2023 00:00:00', 'climate': {'latitude': -37.59, 'longitude': 149.31, 'air_temperature_celcius': 19, 'relative_humidity': 57.2, 'windspeed_knots': 8.9, 'max_wind_speed': 15.0, 'precipitation ': ' 0.98G', 'GHI_w/m2': 153, 'precipitation_value': 0.98, 'precipitation_type': 'G'}}\n",
      "Message published successfully. Data: {'datetime': '12/02/2023 00:00:00', 'climate': {'latitude': -37.288, 'longitude': 144.39, 'air_temperature_celcius': 12, 'relative_humidity': 49.9, 'windspeed_knots': 6.1, 'max_wind_speed': 13.0, 'precipitation ': ' 0.02G', 'GHI_w/m2': 103, 'precipitation_value': 0.02, 'precipitation_type': 'G'}}\n",
      "Message published successfully. Data: {'datetime': '13/02/2023 00:00:00', 'climate': {'latitude': -37.61, 'longitude': 149.279, 'air_temperature_celcius': 20, 'relative_humidity': 57.4, 'windspeed_knots': 10.9, 'max_wind_speed': 22.0, 'precipitation ': ' 0.00I', 'GHI_w/m2': 161, 'precipitation_value': 0.0, 'precipitation_type': 'I'}}\n",
      "Message published successfully. Data: {'datetime': '14/02/2023 00:00:00', 'climate': {'latitude': -37.602, 'longitude': 149.311, 'air_temperature_celcius': 14, 'relative_humidity': 48.5, 'windspeed_knots': 7.3, 'max_wind_speed': 14.0, 'precipitation ': ' 0.00G', 'GHI_w/m2': 122, 'precipitation_value': 0.0, 'precipitation_type': 'G'}}\n",
      "Message published successfully. Data: {'datetime': '15/02/2023 00:00:00', 'climate': {'latitude': -37.862, 'longitude': 144.175, 'air_temperature_celcius': 20, 'relative_humidity': 52.9, 'windspeed_knots': 17.0, 'max_wind_speed': 21.0, 'precipitation ': ' 0.00I', 'GHI_w/m2': 167, 'precipitation_value': 0.0, 'precipitation_type': 'I'}}\n",
      "Message published successfully. Data: {'datetime': '16/02/2023 00:00:00', 'climate': {'latitude': -36.9364, 'longitude': 143.4996, 'air_temperature_celcius': 14, 'relative_humidity': 41.7, 'windspeed_knots': 12.3, 'max_wind_speed': 18.1, 'precipitation ': ' 0.00G', 'GHI_w/m2': 128, 'precipitation_value': 0.0, 'precipitation_type': 'G'}}\n",
      "Message published successfully. Data: {'datetime': '17/02/2023 00:00:00', 'climate': {'latitude': -37.466, 'longitude': 148.1, 'air_temperature_celcius': 12, 'relative_humidity': 49.4, 'windspeed_knots': 4.4, 'max_wind_speed': 8.9, 'precipitation ': ' 0.00I', 'GHI_w/m2': 103, 'precipitation_value': 0.0, 'precipitation_type': 'I'}}\n",
      "Message published successfully. Data: {'datetime': '18/02/2023 00:00:00', 'climate': {'latitude': -37.087, 'longitude': 145.363, 'air_temperature_celcius': 13, 'relative_humidity': 49.4, 'windspeed_knots': 3.8, 'max_wind_speed': 9.9, 'precipitation ': ' 0.01G', 'GHI_w/m2': 112, 'precipitation_value': 0.01, 'precipitation_type': 'G'}}\n",
      "Message published successfully. Data: {'datetime': '19/02/2023 00:00:00', 'climate': {'latitude': -37.61, 'longitude': 149.296, 'air_temperature_celcius': 16, 'relative_humidity': 48.3, 'windspeed_knots': 14.4, 'max_wind_speed': 19.0, 'precipitation ': ' 0.00G', 'GHI_w/m2': 139, 'precipitation_value': 0.0, 'precipitation_type': 'G'}}\n"
     ]
    },
    {
     "name": "stdout",
     "output_type": "stream",
     "text": [
      "Message published successfully. Data: {'datetime': '20/02/2023 00:00:00', 'climate': {'latitude': -37.3583, 'longitude': 143.0203, 'air_temperature_celcius': 13, 'relative_humidity': 43.3, 'windspeed_knots': 9.4, 'max_wind_speed': 14.0, 'precipitation ': ' 0.00G', 'GHI_w/m2': 118, 'precipitation_value': 0.0, 'precipitation_type': 'G'}}\n",
      "Message published successfully. Data: {'datetime': '21/02/2023 00:00:00', 'climate': {'latitude': -36.3096, 'longitude': 142.7722, 'air_temperature_celcius': 24, 'relative_humidity': 56.8, 'windspeed_knots': 5.7, 'max_wind_speed': 9.9, 'precipitation ': ' 0.00I', 'GHI_w/m2': 194, 'precipitation_value': 0.0, 'precipitation_type': 'I'}}\n",
      "Message published successfully. Data: {'datetime': '22/02/2023 00:00:00', 'climate': {'latitude': -37.401, 'longitude': 148.067, 'air_temperature_celcius': 13, 'relative_humidity': 42.5, 'windspeed_knots': 14.0, 'max_wind_speed': 19.0, 'precipitation ': ' 0.04G', 'GHI_w/m2': 118, 'precipitation_value': 0.04, 'precipitation_type': 'G'}}\n",
      "Message published successfully. Data: {'datetime': '23/02/2023 00:00:00', 'climate': {'latitude': -37.61, 'longitude': 149.279, 'air_temperature_celcius': 20, 'relative_humidity': 57.4, 'windspeed_knots': 10.9, 'max_wind_speed': 22.0, 'precipitation ': ' 0.00I', 'GHI_w/m2': 161, 'precipitation_value': 0.0, 'precipitation_type': 'I'}}\n",
      "Message published successfully. Data: {'datetime': '24/02/2023 00:00:00', 'climate': {'latitude': -36.941, 'longitude': 143.268, 'air_temperature_celcius': 23, 'relative_humidity': 63.8, 'windspeed_knots': 7.1, 'max_wind_speed': 15.9, 'precipitation ': ' 0.08G', 'GHI_w/m2': 174, 'precipitation_value': 0.08, 'precipitation_type': 'G'}}\n",
      "Message published successfully. Data: {'datetime': '25/02/2023 00:00:00', 'climate': {'latitude': -37.0745, 'longitude': 141.0692, 'air_temperature_celcius': 9, 'relative_humidity': 40.4, 'windspeed_knots': 6.9, 'max_wind_speed': 9.9, 'precipitation ': ' 0.02G', 'GHI_w/m2': 83, 'precipitation_value': 0.02, 'precipitation_type': 'G'}}\n",
      "Message published successfully. Data: {'datetime': '26/02/2023 00:00:00', 'climate': {'latitude': -37.58, 'longitude': 149.331, 'air_temperature_celcius': 23, 'relative_humidity': 59.0, 'windspeed_knots': 6.0, 'max_wind_speed': 12.0, 'precipitation ': ' 0.00I', 'GHI_w/m2': 182, 'precipitation_value': 0.0, 'precipitation_type': 'I'}}\n",
      "Message published successfully. Data: {'datetime': '27/02/2023 00:00:00', 'climate': {'latitude': -36.6511, 'longitude': 143.915, 'air_temperature_celcius': 13, 'relative_humidity': 46.2, 'windspeed_knots': 5.6, 'max_wind_speed': 12.0, 'precipitation ': ' 0.00I', 'GHI_w/m2': 115, 'precipitation_value': 0.0, 'precipitation_type': 'I'}}\n",
      "Message published successfully. Data: {'datetime': '28/02/2023 00:00:00', 'climate': {'latitude': -37.471, 'longitude': 148.091, 'air_temperature_celcius': 9, 'relative_humidity': 40.8, 'windspeed_knots': 6.7, 'max_wind_speed': 15.0, 'precipitation ': ' 0.01G', 'GHI_w/m2': 83, 'precipitation_value': 0.01, 'precipitation_type': 'G'}}\n",
      "Message published successfully. Data: {'datetime': '01/03/2023 00:00:00', 'climate': {'latitude': -36.9194, 'longitude': 143.6131, 'air_temperature_celcius': 19, 'relative_humidity': 50.3, 'windspeed_knots': 7.7, 'max_wind_speed': 11.1, 'precipitation ': ' 0.00I', 'GHI_w/m2': 162, 'precipitation_value': 0.0, 'precipitation_type': 'I'}}\n",
      "Message published successfully. Data: {'datetime': '02/03/2023 00:00:00', 'climate': {'latitude': -38.167, 'longitude': 143.841, 'air_temperature_celcius': 21, 'relative_humidity': 58.1, 'windspeed_knots': 5.3, 'max_wind_speed': 11.1, 'precipitation ': ' 0.00G', 'GHI_w/m2': 168, 'precipitation_value': 0.0, 'precipitation_type': 'G'}}\n",
      "Message published successfully. Data: {'datetime': '03/03/2023 00:00:00', 'climate': {'latitude': -38.141, 'longitude': 143.183, 'air_temperature_celcius': 23, 'relative_humidity': 54.1, 'windspeed_knots': 5.7, 'max_wind_speed': 14.0, 'precipitation ': ' 0.00I', 'GHI_w/m2': 190, 'precipitation_value': 0.0, 'precipitation_type': 'I'}}\n",
      "Message published successfully. Data: {'datetime': '04/03/2023 00:00:00', 'climate': {'latitude': -36.764, 'longitude': 144.165, 'air_temperature_celcius': 14, 'relative_humidity': 52.4, 'windspeed_knots': 6.7, 'max_wind_speed': 11.1, 'precipitation ': ' 0.00I', 'GHI_w/m2': 118, 'precipitation_value': 0.0, 'precipitation_type': 'I'}}\n",
      "Message published successfully. Data: {'datetime': '05/03/2023 00:00:00', 'climate': {'latitude': -36.5794, 'longitude': 142.5959, 'air_temperature_celcius': 24, 'relative_humidity': 51.8, 'windspeed_knots': 7.9, 'max_wind_speed': 15.0, 'precipitation ': ' 0.00I', 'GHI_w/m2': 203, 'precipitation_value': 0.0, 'precipitation_type': 'I'}}\n",
      "Message published successfully. Data: {'datetime': '06/03/2023 00:00:00', 'climate': {'latitude': -37.247, 'longitude': 141.278, 'air_temperature_celcius': 14, 'relative_humidity': 47.4, 'windspeed_knots': 7.1, 'max_wind_speed': 14.0, 'precipitation ': ' 0.00I', 'GHI_w/m2': 123, 'precipitation_value': 0.0, 'precipitation_type': 'I'}}\n",
      "Message published successfully. Data: {'datetime': '07/03/2023 00:00:00', 'climate': {'latitude': -37.9243, 'longitude': 144.1064, 'air_temperature_celcius': 17, 'relative_humidity': 53.0, 'windspeed_knots': 14.6, 'max_wind_speed': 22.9, 'precipitation ': ' 0.00I', 'GHI_w/m2': 142, 'precipitation_value': 0.0, 'precipitation_type': 'I'}}\n",
      "Message published successfully. Data: {'datetime': '08/03/2023 00:00:00', 'climate': {'latitude': -35.321, 'longitude': 143.502, 'air_temperature_celcius': 12, 'relative_humidity': 44.0, 'windspeed_knots': 4.7, 'max_wind_speed': 7.0, 'precipitation ': ' 0.00G', 'GHI_w/m2': 108, 'precipitation_value': 0.0, 'precipitation_type': 'G'}}\n",
      "Message published successfully. Data: {'datetime': '09/03/2023 00:00:00', 'climate': {'latitude': -36.851, 'longitude': 148.117, 'air_temperature_celcius': 9, 'relative_humidity': 45.3, 'windspeed_knots': 2.5, 'max_wind_speed': 6.0, 'precipitation ': ' 0.00G', 'GHI_w/m2': 80, 'precipitation_value': 0.0, 'precipitation_type': 'G'}}\n",
      "Message published successfully. Data: {'datetime': '10/03/2023 00:00:00', 'climate': {'latitude': -37.605, 'longitude': 149.302, 'air_temperature_celcius': 18, 'relative_humidity': 54.4, 'windspeed_knots': 5.7, 'max_wind_speed': 9.9, 'precipitation ': ' 0.00I', 'GHI_w/m2': 149, 'precipitation_value': 0.0, 'precipitation_type': 'I'}}\n",
      "Message published successfully. Data: {'datetime': '11/03/2023 00:00:00', 'climate': {'latitude': -37.434, 'longitude': 148.123, 'air_temperature_celcius': 14, 'relative_humidity': 43.7, 'windspeed_knots': 17.0, 'max_wind_speed': 27.0, 'precipitation ': ' 0.00I', 'GHI_w/m2': 126, 'precipitation_value': 0.0, 'precipitation_type': 'I'}}\n",
      "Message published successfully. Data: {'datetime': '12/03/2023 00:00:00', 'climate': {'latitude': -37.497, 'longitude': 147.266, 'air_temperature_celcius': 10, 'relative_humidity': 41.0, 'windspeed_knots': 14.1, 'max_wind_speed': 20.0, 'precipitation ': ' 0.02G', 'GHI_w/m2': 92, 'precipitation_value': 0.02, 'precipitation_type': 'G'}}\n",
      "Message published successfully. Data: {'datetime': '13/03/2023 00:00:00', 'climate': {'latitude': -37.333, 'longitude': 148.099, 'air_temperature_celcius': 10, 'relative_humidity': 35.6, 'windspeed_knots': 14.5, 'max_wind_speed': 20.0, 'precipitation ': ' 0.00I', 'GHI_w/m2': 96, 'precipitation_value': 0.0, 'precipitation_type': 'I'}}\n",
      "Message published successfully. Data: {'datetime': '14/03/2023 00:00:00', 'climate': {'latitude': -37.591, 'longitude': 149.33, 'air_temperature_celcius': 16, 'relative_humidity': 46.7, 'windspeed_knots': 10.0, 'max_wind_speed': 16.9, 'precipitation ': ' 0.00I', 'GHI_w/m2': 141, 'precipitation_value': 0.0, 'precipitation_type': 'I'}}\n",
      "Message published successfully. Data: {'datetime': '15/03/2023 00:00:00', 'climate': {'latitude': -37.1815, 'longitude': 146.7777, 'air_temperature_celcius': 17, 'relative_humidity': 50.4, 'windspeed_knots': 10.8, 'max_wind_speed': 16.9, 'precipitation ': ' 0.00I', 'GHI_w/m2': 145, 'precipitation_value': 0.0, 'precipitation_type': 'I'}}\n",
      "Message published successfully. Data: {'datetime': '16/03/2023 00:00:00', 'climate': {'latitude': -37.238, 'longitude': 141.145, 'air_temperature_celcius': 8, 'relative_humidity': 41.6, 'windspeed_knots': 8.3, 'max_wind_speed': 15.9, 'precipitation ': ' 0.24G', 'GHI_w/m2': 73, 'precipitation_value': 0.24, 'precipitation_type': 'G'}}\n"
     ]
    },
    {
     "name": "stdout",
     "output_type": "stream",
     "text": [
      "Message published successfully. Data: {'datetime': '17/03/2023 00:00:00', 'climate': {'latitude': -37.288, 'longitude': 144.39, 'air_temperature_celcius': 12, 'relative_humidity': 49.9, 'windspeed_knots': 6.1, 'max_wind_speed': 13.0, 'precipitation ': ' 0.02G', 'GHI_w/m2': 103, 'precipitation_value': 0.02, 'precipitation_type': 'G'}}\n",
      "Message published successfully. Data: {'datetime': '18/03/2023 00:00:00', 'climate': {'latitude': -36.358, 'longitude': 143.113, 'air_temperature_celcius': 21, 'relative_humidity': 58.8, 'windspeed_knots': 8.8, 'max_wind_speed': 22.9, 'precipitation ': ' 0.08G', 'GHI_w/m2': 167, 'precipitation_value': 0.08, 'precipitation_type': 'G'}}\n",
      "Message published successfully. Data: {'datetime': '19/03/2023 00:00:00', 'climate': {'latitude': -37.38, 'longitude': 149.334, 'air_temperature_celcius': 16, 'relative_humidity': 48.2, 'windspeed_knots': 9.9, 'max_wind_speed': 18.1, 'precipitation ': ' 0.01G', 'GHI_w/m2': 139, 'precipitation_value': 0.01, 'precipitation_type': 'G'}}\n",
      "Message published successfully. Data: {'datetime': '20/03/2023 00:00:00', 'climate': {'latitude': -36.251, 'longitude': 142.5651, 'air_temperature_celcius': 17, 'relative_humidity': 53.6, 'windspeed_knots': 7.6, 'max_wind_speed': 15.0, 'precipitation ': ' 0.00I', 'GHI_w/m2': 141, 'precipitation_value': 0.0, 'precipitation_type': 'I'}}\n",
      "Message published successfully. Data: {'datetime': '21/03/2023 00:00:00', 'climate': {'latitude': -37.8387, 'longitude': 144.6301, 'air_temperature_celcius': 11, 'relative_humidity': 41.4, 'windspeed_knots': 7.7, 'max_wind_speed': 15.0, 'precipitation ': ' 0.03G', 'GHI_w/m2': 101, 'precipitation_value': 0.03, 'precipitation_type': 'G'}}\n",
      "Message published successfully. Data: {'datetime': '22/03/2023 00:00:00', 'climate': {'latitude': -37.621, 'longitude': 143.447, 'air_temperature_celcius': 23, 'relative_humidity': 53.4, 'windspeed_knots': 6.1, 'max_wind_speed': 11.1, 'precipitation ': ' 0.00I', 'GHI_w/m2': 192, 'precipitation_value': 0.0, 'precipitation_type': 'I'}}\n",
      "Message published successfully. Data: {'datetime': '23/03/2023 00:00:00', 'climate': {'latitude': -36.3756, 'longitude': 143.7243, 'air_temperature_celcius': 13, 'relative_humidity': 47.1, 'windspeed_knots': 8.1, 'max_wind_speed': 12.0, 'precipitation ': ' 0.01G', 'GHI_w/m2': 114, 'precipitation_value': 0.01, 'precipitation_type': 'G'}}\n",
      "Message published successfully. Data: {'datetime': '24/03/2023 00:00:00', 'climate': {'latitude': -36.284, 'longitude': 146.145, 'air_temperature_celcius': 19, 'relative_humidity': 54.1, 'windspeed_knots': 11.2, 'max_wind_speed': 18.1, 'precipitation ': ' 0.31G', 'GHI_w/m2': 157, 'precipitation_value': 0.31, 'precipitation_type': 'G'}}\n",
      "Message published successfully. Data: {'datetime': '25/03/2023 00:00:00', 'climate': {'latitude': -37.7836, 'longitude': 141.4711, 'air_temperature_celcius': 12, 'relative_humidity': 44.5, 'windspeed_knots': 11.1, 'max_wind_speed': 15.0, 'precipitation ': ' 0.00G', 'GHI_w/m2': 108, 'precipitation_value': 0.0, 'precipitation_type': 'G'}}\n",
      "Message published successfully. Data: {'datetime': '26/03/2023 00:00:00', 'climate': {'latitude': -35.962, 'longitude': 143.791, 'air_temperature_celcius': 14, 'relative_humidity': 49.9, 'windspeed_knots': 6.8, 'max_wind_speed': 15.9, 'precipitation ': ' 0.00G', 'GHI_w/m2': 120, 'precipitation_value': 0.0, 'precipitation_type': 'G'}}\n",
      "Message published successfully. Data: {'datetime': '27/03/2023 00:00:00', 'climate': {'latitude': -37.605, 'longitude': 149.308, 'air_temperature_celcius': 13, 'relative_humidity': 48.5, 'windspeed_knots': 10.7, 'max_wind_speed': 14.0, 'precipitation ': ' 0.71G', 'GHI_w/m2': 113, 'precipitation_value': 0.71, 'precipitation_type': 'G'}}\n",
      "Message published successfully. Data: {'datetime': '28/03/2023 00:00:00', 'climate': {'latitude': -37.446, 'longitude': 148.102, 'air_temperature_celcius': 10, 'relative_humidity': 39.4, 'windspeed_knots': 9.6, 'max_wind_speed': 14.0, 'precipitation ': ' 0.00G', 'GHI_w/m2': 93, 'precipitation_value': 0.0, 'precipitation_type': 'G'}}\n",
      "Message published successfully. Data: {'datetime': '29/03/2023 00:00:00', 'climate': {'latitude': -37.978, 'longitude': 145.623, 'air_temperature_celcius': 21, 'relative_humidity': 59.5, 'windspeed_knots': 12.4, 'max_wind_speed': 21.0, 'precipitation ': ' 0.00I', 'GHI_w/m2': 166, 'precipitation_value': 0.0, 'precipitation_type': 'I'}}\n",
      "Message published successfully. Data: {'datetime': '30/03/2023 00:00:00', 'climate': {'latitude': -36.293, 'longitude': 146.148, 'air_temperature_celcius': 16, 'relative_humidity': 50.8, 'windspeed_knots': 5.8, 'max_wind_speed': 12.0, 'precipitation ': ' 0.00I', 'GHI_w/m2': 136, 'precipitation_value': 0.0, 'precipitation_type': 'I'}}\n",
      "Message published successfully. Data: {'datetime': '31/03/2023 00:00:00', 'climate': {'latitude': -36.4325, 'longitude': 144.3142, 'air_temperature_celcius': 26, 'relative_humidity': 61.0, 'windspeed_knots': 9.3, 'max_wind_speed': 15.0, 'precipitation ': ' 0.20G', 'GHI_w/m2': 202, 'precipitation_value': 0.2, 'precipitation_type': 'G'}}\n",
      "Message published successfully. Data: {'datetime': '01/04/2023 00:00:00', 'climate': {'latitude': -37.453, 'longitude': 148.111, 'air_temperature_celcius': 11, 'relative_humidity': 45.3, 'windspeed_knots': 10.6, 'max_wind_speed': 16.9, 'precipitation ': ' 0.08G', 'GHI_w/m2': 98, 'precipitation_value': 0.08, 'precipitation_type': 'G'}}\n",
      "Message published successfully. Data: {'datetime': '02/04/2023 00:00:00', 'climate': {'latitude': -35.89, 'longitude': 145.606, 'air_temperature_celcius': 15, 'relative_humidity': 45.6, 'windspeed_knots': 10.2, 'max_wind_speed': 15.0, 'precipitation ': ' 0.00G', 'GHI_w/m2': 133, 'precipitation_value': 0.0, 'precipitation_type': 'G'}}\n",
      "Message published successfully. Data: {'datetime': '03/04/2023 00:00:00', 'climate': {'latitude': -36.0856, 'longitude': 144.233, 'air_temperature_celcius': 11, 'relative_humidity': 43.2, 'windspeed_knots': 5.9, 'max_wind_speed': 14.0, 'precipitation ': ' 0.00I', 'GHI_w/m2': 100, 'precipitation_value': 0.0, 'precipitation_type': 'I'}}\n",
      "Message published successfully. Data: {'datetime': '04/04/2023 00:00:00', 'climate': {'latitude': -37.588, 'longitude': 141.259, 'air_temperature_celcius': 14, 'relative_humidity': 52.8, 'windspeed_knots': 9.3, 'max_wind_speed': 18.1, 'precipitation ': ' 0.98G', 'GHI_w/m2': 117, 'precipitation_value': 0.98, 'precipitation_type': 'G'}}\n",
      "Message published successfully. Data: {'datetime': '05/04/2023 00:00:00', 'climate': {'latitude': -36.279, 'longitude': 141.6716, 'air_temperature_celcius': 13, 'relative_humidity': 42.5, 'windspeed_knots': 8.0, 'max_wind_speed': 15.0, 'precipitation ': ' 0.00I', 'GHI_w/m2': 118, 'precipitation_value': 0.0, 'precipitation_type': 'I'}}\n",
      "Message published successfully. Data: {'datetime': '06/04/2023 00:00:00', 'climate': {'latitude': -38.127, 'longitude': 143.82, 'air_temperature_celcius': 9, 'relative_humidity': 44.0, 'windspeed_knots': 2.8, 'max_wind_speed': 8.0, 'precipitation ': ' 0.00I', 'GHI_w/m2': 81, 'precipitation_value': 0.0, 'precipitation_type': 'I'}}\n",
      "Message published successfully. Data: {'datetime': '07/04/2023 00:00:00', 'climate': {'latitude': -37.627, 'longitude': 149.261, 'air_temperature_celcius': 26, 'relative_humidity': 53.7, 'windspeed_knots': 8.7, 'max_wind_speed': 15.0, 'precipitation ': ' 0.00I', 'GHI_w/m2': 216, 'precipitation_value': 0.0, 'precipitation_type': 'I'}}\n",
      "Message published successfully. Data: {'datetime': '08/04/2023 00:00:00', 'climate': {'latitude': -37.587, 'longitude': 142.479, 'air_temperature_celcius': 12, 'relative_humidity': 45.1, 'windspeed_knots': 11.9, 'max_wind_speed': 18.1, 'precipitation ': ' 0.16G', 'GHI_w/m2': 107, 'precipitation_value': 0.16, 'precipitation_type': 'G'}}\n",
      "Message published successfully. Data: {'datetime': '09/04/2023 00:00:00', 'climate': {'latitude': -37.287, 'longitude': 144.392, 'air_temperature_celcius': 12, 'relative_humidity': 48.2, 'windspeed_knots': 7.3, 'max_wind_speed': 11.1, 'precipitation ': ' 0.03G', 'GHI_w/m2': 104, 'precipitation_value': 0.03, 'precipitation_type': 'G'}}\n",
      "Message published successfully. Data: {'datetime': '10/04/2023 00:00:00', 'climate': {'latitude': -36.5794, 'longitude': 142.5959, 'air_temperature_celcius': 24, 'relative_humidity': 51.8, 'windspeed_knots': 7.9, 'max_wind_speed': 15.0, 'precipitation ': ' 0.00I', 'GHI_w/m2': 203, 'precipitation_value': 0.0, 'precipitation_type': 'I'}}\n"
     ]
    },
    {
     "name": "stdout",
     "output_type": "stream",
     "text": [
      "Message published successfully. Data: {'datetime': '11/04/2023 00:00:00', 'climate': {'latitude': -35.889, 'longitude': 145.614, 'air_temperature_celcius': 14, 'relative_humidity': 49.2, 'windspeed_knots': 10.5, 'max_wind_speed': 20.0, 'precipitation ': ' 0.12G', 'GHI_w/m2': 121, 'precipitation_value': 0.12, 'precipitation_type': 'G'}}\n",
      "Message published successfully. Data: {'datetime': '12/04/2023 00:00:00', 'climate': {'latitude': -35.779, 'longitude': 143.1057, 'air_temperature_celcius': 18, 'relative_humidity': 53.7, 'windspeed_knots': 9.0, 'max_wind_speed': 13.0, 'precipitation ': ' 0.00I', 'GHI_w/m2': 150, 'precipitation_value': 0.0, 'precipitation_type': 'I'}}\n",
      "Message published successfully. Data: {'datetime': '13/04/2023 00:00:00', 'climate': {'latitude': -36.6859, 'longitude': 146.8907, 'air_temperature_celcius': 16, 'relative_humidity': 51.5, 'windspeed_knots': 8.7, 'max_wind_speed': 15.0, 'precipitation ': ' 0.02G', 'GHI_w/m2': 135, 'precipitation_value': 0.02, 'precipitation_type': 'G'}}\n",
      "Message published successfully. Data: {'datetime': '14/04/2023 00:00:00', 'climate': {'latitude': -37.332, 'longitude': 148.091, 'air_temperature_celcius': 8, 'relative_humidity': 39.3, 'windspeed_knots': 7.7, 'max_wind_speed': 14.0, 'precipitation ': ' 0.00G', 'GHI_w/m2': 75, 'precipitation_value': 0.0, 'precipitation_type': 'G'}}\n",
      "Message published successfully. Data: {'datetime': '15/04/2023 00:00:00', 'climate': {'latitude': -37.46, 'longitude': 148.102, 'air_temperature_celcius': 10, 'relative_humidity': 46.3, 'windspeed_knots': 4.6, 'max_wind_speed': 8.0, 'precipitation ': ' 0.08G', 'GHI_w/m2': 88, 'precipitation_value': 0.08, 'precipitation_type': 'G'}}\n",
      "Message published successfully. Data: {'datetime': '16/04/2023 00:00:00', 'climate': {'latitude': -37.946, 'longitude': 144.342, 'air_temperature_celcius': 21, 'relative_humidity': 54.9, 'windspeed_knots': 7.4, 'max_wind_speed': 16.9, 'precipitation ': ' 0.00I', 'GHI_w/m2': 173, 'precipitation_value': 0.0, 'precipitation_type': 'I'}}\n",
      "Message published successfully. Data: {'datetime': '17/04/2023 00:00:00', 'climate': {'latitude': -36.098, 'longitude': 143.735, 'air_temperature_celcius': 17, 'relative_humidity': 58.1, 'windspeed_knots': 11.7, 'max_wind_speed': 19.0, 'precipitation ': ' 0.04G', 'GHI_w/m2': 136, 'precipitation_value': 0.04, 'precipitation_type': 'G'}}\n",
      "Message published successfully. Data: {'datetime': '18/04/2023 00:00:00', 'climate': {'latitude': -37.38, 'longitude': 148.053, 'air_temperature_celcius': 14, 'relative_humidity': 51.0, 'windspeed_knots': 9.9, 'max_wind_speed': 15.0, 'precipitation ': ' 0.00I', 'GHI_w/m2': 119, 'precipitation_value': 0.0, 'precipitation_type': 'I'}}\n",
      "Message published successfully. Data: {'datetime': '19/04/2023 00:00:00', 'climate': {'latitude': -35.321, 'longitude': 143.502, 'air_temperature_celcius': 12, 'relative_humidity': 44.0, 'windspeed_knots': 4.7, 'max_wind_speed': 7.0, 'precipitation ': ' 0.00G', 'GHI_w/m2': 108, 'precipitation_value': 0.0, 'precipitation_type': 'G'}}\n",
      "Message published successfully. Data: {'datetime': '20/04/2023 00:00:00', 'climate': {'latitude': -37.1104, 'longitude': 141.828, 'air_temperature_celcius': 11, 'relative_humidity': 46.2, 'windspeed_knots': 10.5, 'max_wind_speed': 15.0, 'precipitation ': ' 0.28G', 'GHI_w/m2': 97, 'precipitation_value': 0.28, 'precipitation_type': 'G'}}\n",
      "Message published successfully. Data: {'datetime': '21/04/2023 00:00:00', 'climate': {'latitude': -38.167, 'longitude': 143.841, 'air_temperature_celcius': 21, 'relative_humidity': 58.1, 'windspeed_knots': 5.3, 'max_wind_speed': 11.1, 'precipitation ': ' 0.00G', 'GHI_w/m2': 168, 'precipitation_value': 0.0, 'precipitation_type': 'G'}}\n",
      "Message published successfully. Data: {'datetime': '22/04/2023 00:00:00', 'climate': {'latitude': -37.5915, 'longitude': 143.0015, 'air_temperature_celcius': 17, 'relative_humidity': 52.0, 'windspeed_knots': 8.8, 'max_wind_speed': 15.0, 'precipitation ': ' 0.00I', 'GHI_w/m2': 143, 'precipitation_value': 0.0, 'precipitation_type': 'I'}}\n",
      "Message published successfully. Data: {'datetime': '23/04/2023 00:00:00', 'climate': {'latitude': -37.621, 'longitude': 143.447, 'air_temperature_celcius': 23, 'relative_humidity': 53.4, 'windspeed_knots': 6.1, 'max_wind_speed': 11.1, 'precipitation ': ' 0.00I', 'GHI_w/m2': 192, 'precipitation_value': 0.0, 'precipitation_type': 'I'}}\n",
      "Message published successfully. Data: {'datetime': '24/04/2023 00:00:00', 'climate': {'latitude': -36.2669, 'longitude': 143.1906, 'air_temperature_celcius': 12, 'relative_humidity': 42.7, 'windspeed_knots': 10.0, 'max_wind_speed': 15.9, 'precipitation ': ' 0.01G', 'GHI_w/m2': 109, 'precipitation_value': 0.01, 'precipitation_type': 'G'}}\n",
      "Message published successfully. Data: {'datetime': '25/04/2023 00:00:00', 'climate': {'latitude': -37.478, 'longitude': 148.117, 'air_temperature_celcius': 11, 'relative_humidity': 43.9, 'windspeed_knots': 11.2, 'max_wind_speed': 16.9, 'precipitation ': ' 0.12G', 'GHI_w/m2': 99, 'precipitation_value': 0.12, 'precipitation_type': 'G'}}\n",
      "Message published successfully. Data: {'datetime': '26/04/2023 00:00:00', 'climate': {'latitude': -37.293, 'longitude': 141.245, 'air_temperature_celcius': 10, 'relative_humidity': 45.7, 'windspeed_knots': 3.7, 'max_wind_speed': 8.0, 'precipitation ': ' 0.01G', 'GHI_w/m2': 89, 'precipitation_value': 0.01, 'precipitation_type': 'G'}}\n",
      "Message published successfully. Data: {'datetime': '27/04/2023 00:00:00', 'climate': {'latitude': -37.45, 'longitude': 148.126, 'air_temperature_celcius': 11, 'relative_humidity': 40.5, 'windspeed_knots': 13.4, 'max_wind_speed': 26.0, 'precipitation ': ' 0.00G', 'GHI_w/m2': 102, 'precipitation_value': 0.0, 'precipitation_type': 'G'}}\n",
      "Message published successfully. Data: {'datetime': '28/04/2023 00:00:00', 'climate': {'latitude': -34.282, 'longitude': 142.121, 'air_temperature_celcius': 15, 'relative_humidity': 49.1, 'windspeed_knots': 9.6, 'max_wind_speed': 16.9, 'precipitation ': ' 0.01G', 'GHI_w/m2': 130, 'precipitation_value': 0.01, 'precipitation_type': 'G'}}\n",
      "Message published successfully. Data: {'datetime': '29/04/2023 00:00:00', 'climate': {'latitude': -36.6859, 'longitude': 146.8907, 'air_temperature_celcius': 16, 'relative_humidity': 51.5, 'windspeed_knots': 8.7, 'max_wind_speed': 15.0, 'precipitation ': ' 0.02G', 'GHI_w/m2': 135, 'precipitation_value': 0.02, 'precipitation_type': 'G'}}\n",
      "Message published successfully. Data: {'datetime': '30/04/2023 00:00:00', 'climate': {'latitude': -37.384, 'longitude': 149.336, 'air_temperature_celcius': 16, 'relative_humidity': 48.9, 'windspeed_knots': 5.4, 'max_wind_speed': 8.9, 'precipitation ': ' 0.00I', 'GHI_w/m2': 138, 'precipitation_value': 0.0, 'precipitation_type': 'I'}}\n",
      "Message published successfully. Data: {'datetime': '01/05/2023 00:00:00', 'climate': {'latitude': -36.358, 'longitude': 143.113, 'air_temperature_celcius': 21, 'relative_humidity': 58.8, 'windspeed_knots': 8.8, 'max_wind_speed': 22.9, 'precipitation ': ' 0.08G', 'GHI_w/m2': 167, 'precipitation_value': 0.08, 'precipitation_type': 'G'}}\n",
      "Message published successfully. Data: {'datetime': '02/05/2023 00:00:00', 'climate': {'latitude': -37.332, 'longitude': 143.375, 'air_temperature_celcius': 21, 'relative_humidity': 51.7, 'windspeed_knots': 7.2, 'max_wind_speed': 13.0, 'precipitation ': ' 0.00I', 'GHI_w/m2': 177, 'precipitation_value': 0.0, 'precipitation_type': 'I'}}\n",
      "Message published successfully. Data: {'datetime': '03/05/2023 00:00:00', 'climate': {'latitude': -37.6662, 'longitude': 142.9874, 'air_temperature_celcius': 24, 'relative_humidity': 51.9, 'windspeed_knots': 7.3, 'max_wind_speed': 13.0, 'precipitation ': ' 0.00I', 'GHI_w/m2': 202, 'precipitation_value': 0.0, 'precipitation_type': 'I'}}\n",
      "Message published successfully. Data: {'datetime': '04/05/2023 00:00:00', 'climate': {'latitude': -37.903, 'longitude': 145.25, 'air_temperature_celcius': 24, 'relative_humidity': 62.3, 'windspeed_knots': 7.0, 'max_wind_speed': 13.0, 'precipitation ': ' 0.00I', 'GHI_w/m2': 185, 'precipitation_value': 0.0, 'precipitation_type': 'I'}}\n",
      "Message published successfully. Data: {'datetime': '05/05/2023 00:00:00', 'climate': {'latitude': -37.33, 'longitude': 148.087, 'air_temperature_celcius': 12, 'relative_humidity': 41.8, 'windspeed_knots': 14.7, 'max_wind_speed': 21.0, 'precipitation ': ' 0.00I', 'GHI_w/m2': 110, 'precipitation_value': 0.0, 'precipitation_type': 'I'}}\n"
     ]
    },
    {
     "name": "stdout",
     "output_type": "stream",
     "text": [
      "Message published successfully. Data: {'datetime': '06/05/2023 00:00:00', 'climate': {'latitude': -36.4025, 'longitude': 142.5598, 'air_temperature_celcius': 21, 'relative_humidity': 57.4, 'windspeed_knots': 10.7, 'max_wind_speed': 22.9, 'precipitation ': ' 0.67G', 'GHI_w/m2': 169, 'precipitation_value': 0.67, 'precipitation_type': 'G'}}\n",
      "Message published successfully. Data: {'datetime': '07/05/2023 00:00:00', 'climate': {'latitude': -38.912, 'longitude': 146.272, 'air_temperature_celcius': 18, 'relative_humidity': 53.3, 'windspeed_knots': 10.8, 'max_wind_speed': 15.0, 'precipitation ': ' 0.00G', 'GHI_w/m2': 150, 'precipitation_value': 0.0, 'precipitation_type': 'G'}}\n",
      "Message published successfully. Data: {'datetime': '08/05/2023 00:00:00', 'climate': {'latitude': -37.457, 'longitude': 148.143, 'air_temperature_celcius': 9, 'relative_humidity': 39.0, 'windspeed_knots': 5.6, 'max_wind_speed': 8.9, 'precipitation ': ' 0.00G', 'GHI_w/m2': 84, 'precipitation_value': 0.0, 'precipitation_type': 'G'}}\n",
      "Message published successfully. Data: {'datetime': '09/05/2023 00:00:00', 'climate': {'latitude': -36.358, 'longitude': 143.113, 'air_temperature_celcius': 21, 'relative_humidity': 58.8, 'windspeed_knots': 8.8, 'max_wind_speed': 22.9, 'precipitation ': ' 0.08G', 'GHI_w/m2': 167, 'precipitation_value': 0.08, 'precipitation_type': 'G'}}\n",
      "Message published successfully. Data: {'datetime': '10/05/2023 00:00:00', 'climate': {'latitude': -37.61, 'longitude': 149.296, 'air_temperature_celcius': 16, 'relative_humidity': 48.3, 'windspeed_knots': 14.4, 'max_wind_speed': 19.0, 'precipitation ': ' 0.00G', 'GHI_w/m2': 139, 'precipitation_value': 0.0, 'precipitation_type': 'G'}}\n",
      "Message published successfully. Data: {'datetime': '11/05/2023 00:00:00', 'climate': {'latitude': -36.759, 'longitude': 145.179, 'air_temperature_celcius': 18, 'relative_humidity': 55.6, 'windspeed_knots': 12.8, 'max_wind_speed': 19.0, 'precipitation ': ' 0.00I', 'GHI_w/m2': 147, 'precipitation_value': 0.0, 'precipitation_type': 'I'}}\n",
      "Message published successfully. Data: {'datetime': '12/05/2023 00:00:00', 'climate': {'latitude': -37.293, 'longitude': 141.245, 'air_temperature_celcius': 10, 'relative_humidity': 45.7, 'windspeed_knots': 3.7, 'max_wind_speed': 8.0, 'precipitation ': ' 0.01G', 'GHI_w/m2': 89, 'precipitation_value': 0.01, 'precipitation_type': 'G'}}\n",
      "Message published successfully. Data: {'datetime': '13/05/2023 00:00:00', 'climate': {'latitude': -37.247, 'longitude': 141.27, 'air_temperature_celcius': 10, 'relative_humidity': 43.1, 'windspeed_knots': 4.7, 'max_wind_speed': 8.0, 'precipitation ': ' 0.00G', 'GHI_w/m2': 91, 'precipitation_value': 0.0, 'precipitation_type': 'G'}}\n",
      "Message published successfully. Data: {'datetime': '14/05/2023 00:00:00', 'climate': {'latitude': -37.236, 'longitude': 141.176, 'air_temperature_celcius': 14, 'relative_humidity': 48.1, 'windspeed_knots': 13.7, 'max_wind_speed': 19.0, 'precipitation ': ' 0.35G', 'GHI_w/m2': 122, 'precipitation_value': 0.35, 'precipitation_type': 'G'}}\n",
      "Message published successfully. Data: {'datetime': '15/05/2023 00:00:00', 'climate': {'latitude': -37.605, 'longitude': 149.308, 'air_temperature_celcius': 13, 'relative_humidity': 48.5, 'windspeed_knots': 10.7, 'max_wind_speed': 14.0, 'precipitation ': ' 0.71G', 'GHI_w/m2': 113, 'precipitation_value': 0.71, 'precipitation_type': 'G'}}\n",
      "Message published successfully. Data: {'datetime': '16/05/2023 00:00:00', 'climate': {'latitude': -37.47, 'longitude': 148.089, 'air_temperature_celcius': 11, 'relative_humidity': 46.4, 'windspeed_knots': 6.5, 'max_wind_speed': 8.9, 'precipitation ': ' 0.00I', 'GHI_w/m2': 97, 'precipitation_value': 0.0, 'precipitation_type': 'I'}}\n",
      "Message published successfully. Data: {'datetime': '17/05/2023 00:00:00', 'climate': {'latitude': -36.0966, 'longitude': 142.3635, 'air_temperature_celcius': 22, 'relative_humidity': 57.0, 'windspeed_knots': 8.5, 'max_wind_speed': 15.0, 'precipitation ': ' 0.00G', 'GHI_w/m2': 178, 'precipitation_value': 0.0, 'precipitation_type': 'G'}}\n",
      "Message published successfully. Data: {'datetime': '18/05/2023 00:00:00', 'climate': {'latitude': -37.611, 'longitude': 149.277, 'air_temperature_celcius': 18, 'relative_humidity': 49.4, 'windspeed_knots': 9.3, 'max_wind_speed': 13.0, 'precipitation ': ' 0.00I', 'GHI_w/m2': 155, 'precipitation_value': 0.0, 'precipitation_type': 'I'}}\n",
      "Message published successfully. Data: {'datetime': '19/05/2023 00:00:00', 'climate': {'latitude': -37.642, 'longitude': 149.263, 'air_temperature_celcius': 20, 'relative_humidity': 55.8, 'windspeed_knots': 10.5, 'max_wind_speed': 15.9, 'precipitation ': ' 0.01G', 'GHI_w/m2': 163, 'precipitation_value': 0.01, 'precipitation_type': 'G'}}\n",
      "Message published successfully. Data: {'datetime': '20/05/2023 00:00:00', 'climate': {'latitude': -37.633, 'longitude': 149.264, 'air_temperature_celcius': 16, 'relative_humidity': 50.9, 'windspeed_knots': 12.9, 'max_wind_speed': 21.0, 'precipitation ': ' 0.03G', 'GHI_w/m2': 136, 'precipitation_value': 0.03, 'precipitation_type': 'G'}}\n",
      "Message published successfully. Data: {'datetime': '21/05/2023 00:00:00', 'climate': {'latitude': -37.453, 'longitude': 148.118, 'air_temperature_celcius': 6, 'relative_humidity': 39.0, 'windspeed_knots': 1.8, 'max_wind_speed': 5.1, 'precipitation ': ' 0.01G', 'GHI_w/m2': 56, 'precipitation_value': 0.01, 'precipitation_type': 'G'}}\n",
      "Message published successfully. Data: {'datetime': '22/05/2023 00:00:00', 'climate': {'latitude': -35.364, 'longitude': 141.063, 'air_temperature_celcius': 15, 'relative_humidity': 51.9, 'windspeed_knots': 6.6, 'max_wind_speed': 12.0, 'precipitation ': ' 0.01G', 'GHI_w/m2': 127, 'precipitation_value': 0.01, 'precipitation_type': 'G'}}\n",
      "Message published successfully. Data: {'datetime': '23/05/2023 00:00:00', 'climate': {'latitude': -36.538, 'longitude': 141.129, 'air_temperature_celcius': 12, 'relative_humidity': 43.4, 'windspeed_knots': 9.3, 'max_wind_speed': 15.0, 'precipitation ': ' 0.00I', 'GHI_w/m2': 109, 'precipitation_value': 0.0, 'precipitation_type': 'I'}}\n",
      "Message published successfully. Data: {'datetime': '24/05/2023 00:00:00', 'climate': {'latitude': -36.9194, 'longitude': 143.6131, 'air_temperature_celcius': 19, 'relative_humidity': 50.3, 'windspeed_knots': 7.7, 'max_wind_speed': 11.1, 'precipitation ': ' 0.00I', 'GHI_w/m2': 162, 'precipitation_value': 0.0, 'precipitation_type': 'I'}}\n",
      "Message published successfully. Data: {'datetime': '25/05/2023 00:00:00', 'climate': {'latitude': -37.856, 'longitude': 143.416, 'air_temperature_celcius': 14, 'relative_humidity': 51.0, 'windspeed_knots': 9.1, 'max_wind_speed': 12.0, 'precipitation ': ' 0.00G', 'GHI_w/m2': 119, 'precipitation_value': 0.0, 'precipitation_type': 'G'}}\n",
      "Message published successfully. Data: {'datetime': '26/05/2023 00:00:00', 'climate': {'latitude': -37.34, 'longitude': 143.123, 'air_temperature_celcius': 19, 'relative_humidity': 52.8, 'windspeed_knots': 12.5, 'max_wind_speed': 21.0, 'precipitation ': ' 0.47G', 'GHI_w/m2': 159, 'precipitation_value': 0.47, 'precipitation_type': 'G'}}\n",
      "Message published successfully. Data: {'datetime': '27/05/2023 00:00:00', 'climate': {'latitude': -38.498, 'longitude': 146.95, 'air_temperature_celcius': 5, 'relative_humidity': 38.6, 'windspeed_knots': 1.8, 'max_wind_speed': 5.1, 'precipitation ': ' 0.00I', 'GHI_w/m2': 47, 'precipitation_value': 0.0, 'precipitation_type': 'I'}}\n",
      "Message published successfully. Data: {'datetime': '28/05/2023 00:00:00', 'climate': {'latitude': -36.009, 'longitude': 143.185, 'air_temperature_celcius': 28, 'relative_humidity': 48.3, 'windspeed_knots': 11.9, 'max_wind_speed': 22.0, 'precipitation ': ' 0.00I', 'GHI_w/m2': 243, 'precipitation_value': 0.0, 'precipitation_type': 'I'}}\n",
      "Message published successfully. Data: {'datetime': '29/05/2023 00:00:00', 'climate': {'latitude': -37.976, 'longitude': 145.649, 'air_temperature_celcius': 22, 'relative_humidity': 62.0, 'windspeed_knots': 7.9, 'max_wind_speed': 11.1, 'precipitation ': ' 0.00I', 'GHI_w/m2': 170, 'precipitation_value': 0.0, 'precipitation_type': 'I'}}\n",
      "Message published successfully. Data: {'datetime': '30/05/2023 00:00:00', 'climate': {'latitude': -37.864, 'longitude': 144.174, 'air_temperature_celcius': 28, 'relative_humidity': 58.4, 'windspeed_knots': 11.9, 'max_wind_speed': 18.1, 'precipitation ': ' 0.04G', 'GHI_w/m2': 223, 'precipitation_value': 0.04, 'precipitation_type': 'G'}}\n"
     ]
    },
    {
     "name": "stdout",
     "output_type": "stream",
     "text": [
      "Message published successfully. Data: {'datetime': '31/05/2023 00:00:00', 'climate': {'latitude': -37.247, 'longitude': 141.278, 'air_temperature_celcius': 14, 'relative_humidity': 47.4, 'windspeed_knots': 7.1, 'max_wind_speed': 14.0, 'precipitation ': ' 0.00I', 'GHI_w/m2': 123, 'precipitation_value': 0.0, 'precipitation_type': 'I'}}\n",
      "Message published successfully. Data: {'datetime': '01/06/2023 00:00:00', 'climate': {'latitude': -37.437, 'longitude': 148.104, 'air_temperature_celcius': 12, 'relative_humidity': 40.7, 'windspeed_knots': 16.7, 'max_wind_speed': 21.0, 'precipitation ': ' 0.12G', 'GHI_w/m2': 111, 'precipitation_value': 0.12, 'precipitation_type': 'G'}}\n",
      "Message published successfully. Data: {'datetime': '02/06/2023 00:00:00', 'climate': {'latitude': -37.8387, 'longitude': 144.6301, 'air_temperature_celcius': 11, 'relative_humidity': 41.4, 'windspeed_knots': 7.7, 'max_wind_speed': 15.0, 'precipitation ': ' 0.03G', 'GHI_w/m2': 101, 'precipitation_value': 0.03, 'precipitation_type': 'G'}}\n",
      "Message published successfully. Data: {'datetime': '03/06/2023 00:00:00', 'climate': {'latitude': -36.1, 'longitude': 143.767, 'air_temperature_celcius': 20, 'relative_humidity': 53.5, 'windspeed_knots': 7.2, 'max_wind_speed': 15.9, 'precipitation ': ' 0.31G', 'GHI_w/m2': 166, 'precipitation_value': 0.31, 'precipitation_type': 'G'}}\n",
      "Message published successfully. Data: {'datetime': '04/06/2023 00:00:00', 'climate': {'latitude': -37.618, 'longitude': 143.0013, 'air_temperature_celcius': 14, 'relative_humidity': 36.0, 'windspeed_knots': 15.9, 'max_wind_speed': 22.0, 'precipitation ': ' 0.00I', 'GHI_w/m2': 134, 'precipitation_value': 0.0, 'precipitation_type': 'I'}}\n",
      "Message published successfully. Data: {'datetime': '05/06/2023 00:00:00', 'climate': {'latitude': -37.466, 'longitude': 148.143, 'air_temperature_celcius': 17, 'relative_humidity': 48.7, 'windspeed_knots': 10.5, 'max_wind_speed': 15.0, 'precipitation ': ' 0.00I', 'GHI_w/m2': 147, 'precipitation_value': 0.0, 'precipitation_type': 'I'}}\n",
      "Message published successfully. Data: {'datetime': '06/06/2023 00:00:00', 'climate': {'latitude': -36.341, 'longitude': 143.636, 'air_temperature_celcius': 16, 'relative_humidity': 47.5, 'windspeed_knots': 5.4, 'max_wind_speed': 12.0, 'precipitation ': ' 0.00I', 'GHI_w/m2': 140, 'precipitation_value': 0.0, 'precipitation_type': 'I'}}\n",
      "Message published successfully. Data: {'datetime': '07/06/2023 00:00:00', 'climate': {'latitude': -37.332, 'longitude': 143.375, 'air_temperature_celcius': 21, 'relative_humidity': 51.7, 'windspeed_knots': 7.2, 'max_wind_speed': 13.0, 'precipitation ': ' 0.00I', 'GHI_w/m2': 177, 'precipitation_value': 0.0, 'precipitation_type': 'I'}}\n",
      "Message published successfully. Data: {'datetime': '08/06/2023 00:00:00', 'climate': {'latitude': -37.605, 'longitude': 149.302, 'air_temperature_celcius': 18, 'relative_humidity': 54.4, 'windspeed_knots': 5.7, 'max_wind_speed': 9.9, 'precipitation ': ' 0.00I', 'GHI_w/m2': 149, 'precipitation_value': 0.0, 'precipitation_type': 'I'}}\n",
      "Message published successfully. Data: {'datetime': '09/06/2023 00:00:00', 'climate': {'latitude': -36.398, 'longitude': 145.286, 'air_temperature_celcius': 11, 'relative_humidity': 45.1, 'windspeed_knots': 11.5, 'max_wind_speed': 18.1, 'precipitation ': ' 0.20G', 'GHI_w/m2': 98, 'precipitation_value': 0.2, 'precipitation_type': 'G'}}\n",
      "Message published successfully. Data: {'datetime': '10/06/2023 00:00:00', 'climate': {'latitude': -37.365, 'longitude': 148.052, 'air_temperature_celcius': 11, 'relative_humidity': 43.8, 'windspeed_knots': 6.5, 'max_wind_speed': 12.0, 'precipitation ': ' 0.02G', 'GHI_w/m2': 99, 'precipitation_value': 0.02, 'precipitation_type': 'G'}}\n",
      "Message published successfully. Data: {'datetime': '11/06/2023 00:00:00', 'climate': {'latitude': -37.363, 'longitude': 148.06, 'air_temperature_celcius': 11, 'relative_humidity': 35.3, 'windspeed_knots': 18.2, 'max_wind_speed': 25.1, 'precipitation ': ' 0.00I', 'GHI_w/m2': 106, 'precipitation_value': 0.0, 'precipitation_type': 'I'}}\n",
      "Message published successfully. Data: {'datetime': '12/06/2023 00:00:00', 'climate': {'latitude': -37.864, 'longitude': 144.174, 'air_temperature_celcius': 28, 'relative_humidity': 58.4, 'windspeed_knots': 11.9, 'max_wind_speed': 18.1, 'precipitation ': ' 0.04G', 'GHI_w/m2': 223, 'precipitation_value': 0.04, 'precipitation_type': 'G'}}\n",
      "Message published successfully. Data: {'datetime': '13/06/2023 00:00:00', 'climate': {'latitude': -37.332, 'longitude': 148.091, 'air_temperature_celcius': 8, 'relative_humidity': 39.3, 'windspeed_knots': 7.7, 'max_wind_speed': 14.0, 'precipitation ': ' 0.00G', 'GHI_w/m2': 75, 'precipitation_value': 0.0, 'precipitation_type': 'G'}}\n",
      "Message published successfully. Data: {'datetime': '14/06/2023 00:00:00', 'climate': {'latitude': -37.457, 'longitude': 148.143, 'air_temperature_celcius': 9, 'relative_humidity': 39.0, 'windspeed_knots': 5.6, 'max_wind_speed': 8.9, 'precipitation ': ' 0.00G', 'GHI_w/m2': 84, 'precipitation_value': 0.0, 'precipitation_type': 'G'}}\n",
      "Message published successfully. Data: {'datetime': '15/06/2023 00:00:00', 'climate': {'latitude': -37.475, 'longitude': 148.134, 'air_temperature_celcius': 8, 'relative_humidity': 43.1, 'windspeed_knots': 3.4, 'max_wind_speed': 7.0, 'precipitation ': ' 0.00I', 'GHI_w/m2': 73, 'precipitation_value': 0.0, 'precipitation_type': 'I'}}\n",
      "Message published successfully. Data: {'datetime': '16/06/2023 00:00:00', 'climate': {'latitude': -37.391, 'longitude': 148.066, 'air_temperature_celcius': 14, 'relative_humidity': 44.6, 'windspeed_knots': 7.7, 'max_wind_speed': 15.9, 'precipitation ': ' 0.03G', 'GHI_w/m2': 125, 'precipitation_value': 0.03, 'precipitation_type': 'G'}}\n",
      "Message published successfully. Data: {'datetime': '17/06/2023 00:00:00', 'climate': {'latitude': -38.167, 'longitude': 143.841, 'air_temperature_celcius': 21, 'relative_humidity': 58.1, 'windspeed_knots': 5.3, 'max_wind_speed': 11.1, 'precipitation ': ' 0.00G', 'GHI_w/m2': 168, 'precipitation_value': 0.0, 'precipitation_type': 'G'}}\n",
      "Message published successfully. Data: {'datetime': '18/06/2023 00:00:00', 'climate': {'latitude': -38.5, 'longitude': 146.938, 'air_temperature_celcius': 7, 'relative_humidity': 40.7, 'windspeed_knots': 3.7, 'max_wind_speed': 7.0, 'precipitation ': ' 0.00I', 'GHI_w/m2': 65, 'precipitation_value': 0.0, 'precipitation_type': 'I'}}\n",
      "Message published successfully. Data: {'datetime': '19/06/2023 00:00:00', 'climate': {'latitude': -35.0889, 'longitude': 141.2419, 'air_temperature_celcius': 12, 'relative_humidity': 44.4, 'windspeed_knots': 7.8, 'max_wind_speed': 14.0, 'precipitation ': ' 0.00G', 'GHI_w/m2': 108, 'precipitation_value': 0.0, 'precipitation_type': 'G'}}\n",
      "Message published successfully. Data: {'datetime': '20/06/2023 00:00:00', 'climate': {'latitude': -37.406, 'longitude': 148.088, 'air_temperature_celcius': 12, 'relative_humidity': 43.9, 'windspeed_knots': 12.0, 'max_wind_speed': 15.9, 'precipitation ': ' 0.08G', 'GHI_w/m2': 108, 'precipitation_value': 0.08, 'precipitation_type': 'G'}}\n",
      "Message published successfully. Data: {'datetime': '21/06/2023 00:00:00', 'climate': {'latitude': -36.942, 'longitude': 143.282, 'air_temperature_celcius': 25, 'relative_humidity': 58.3, 'windspeed_knots': 7.1, 'max_wind_speed': 13.0, 'precipitation ': ' 0.00I', 'GHI_w/m2': 199, 'precipitation_value': 0.0, 'precipitation_type': 'I'}}\n",
      "Message published successfully. Data: {'datetime': '22/06/2023 00:00:00', 'climate': {'latitude': -36.398, 'longitude': 145.286, 'air_temperature_celcius': 11, 'relative_humidity': 45.1, 'windspeed_knots': 11.5, 'max_wind_speed': 18.1, 'precipitation ': ' 0.20G', 'GHI_w/m2': 98, 'precipitation_value': 0.2, 'precipitation_type': 'G'}}\n",
      "Message published successfully. Data: {'datetime': '23/06/2023 00:00:00', 'climate': {'latitude': -37.596, 'longitude': 149.319, 'air_temperature_celcius': 19, 'relative_humidity': 56.1, 'windspeed_knots': 6.9, 'max_wind_speed': 12.0, 'precipitation ': ' 0.00A', 'GHI_w/m2': 155, 'precipitation_value': 0.0, 'precipitation_type': 'A'}}\n",
      "Message published successfully. Data: {'datetime': '24/06/2023 00:00:00', 'climate': {'latitude': -37.608, 'longitude': 149.282, 'air_temperature_celcius': 22, 'relative_humidity': 62.7, 'windspeed_knots': 7.6, 'max_wind_speed': 18.1, 'precipitation ': ' 0.00I', 'GHI_w/m2': 169, 'precipitation_value': 0.0, 'precipitation_type': 'I'}}\n"
     ]
    },
    {
     "name": "stdout",
     "output_type": "stream",
     "text": [
      "Message published successfully. Data: {'datetime': '25/06/2023 00:00:00', 'climate': {'latitude': -36.8264, 'longitude': 142.6138, 'air_temperature_celcius': 15, 'relative_humidity': 48.2, 'windspeed_knots': 14.7, 'max_wind_speed': 25.1, 'precipitation ': ' 0.43G', 'GHI_w/m2': 131, 'precipitation_value': 0.43, 'precipitation_type': 'G'}}\n",
      "Message published successfully. Data: {'datetime': '26/06/2023 00:00:00', 'climate': {'latitude': -37.479, 'longitude': 143.358, 'air_temperature_celcius': 23, 'relative_humidity': 60.6, 'windspeed_knots': 10.1, 'max_wind_speed': 26.0, 'precipitation ': ' 0.00I', 'GHI_w/m2': 180, 'precipitation_value': 0.0, 'precipitation_type': 'I'}}\n",
      "Message published successfully. Data: {'datetime': '27/06/2023 00:00:00', 'climate': {'latitude': -36.0279, 'longitude': 146.0244, 'air_temperature_celcius': 24, 'relative_humidity': 60.1, 'windspeed_knots': 8.0, 'max_wind_speed': 13.0, 'precipitation ': ' 0.12G', 'GHI_w/m2': 188, 'precipitation_value': 0.12, 'precipitation_type': 'G'}}\n",
      "Message published successfully. Data: {'datetime': '28/06/2023 00:00:00', 'climate': {'latitude': -37.391, 'longitude': 148.066, 'air_temperature_celcius': 14, 'relative_humidity': 44.6, 'windspeed_knots': 7.7, 'max_wind_speed': 15.9, 'precipitation ': ' 0.03G', 'GHI_w/m2': 125, 'precipitation_value': 0.03, 'precipitation_type': 'G'}}\n",
      "Message published successfully. Data: {'datetime': '29/06/2023 00:00:00', 'climate': {'latitude': -37.293, 'longitude': 141.245, 'air_temperature_celcius': 10, 'relative_humidity': 45.7, 'windspeed_knots': 3.7, 'max_wind_speed': 8.0, 'precipitation ': ' 0.01G', 'GHI_w/m2': 89, 'precipitation_value': 0.01, 'precipitation_type': 'G'}}\n",
      "Message published successfully. Data: {'datetime': '30/06/2023 00:00:00', 'climate': {'latitude': -36.0856, 'longitude': 144.233, 'air_temperature_celcius': 11, 'relative_humidity': 43.2, 'windspeed_knots': 5.9, 'max_wind_speed': 14.0, 'precipitation ': ' 0.00I', 'GHI_w/m2': 100, 'precipitation_value': 0.0, 'precipitation_type': 'I'}}\n",
      "Message published successfully. Data: {'datetime': '01/07/2023 00:00:00', 'climate': {'latitude': -37.903, 'longitude': 145.25, 'air_temperature_celcius': 24, 'relative_humidity': 62.3, 'windspeed_knots': 7.0, 'max_wind_speed': 13.0, 'precipitation ': ' 0.00I', 'GHI_w/m2': 185, 'precipitation_value': 0.0, 'precipitation_type': 'I'}}\n",
      "Message published successfully. Data: {'datetime': '02/07/2023 00:00:00', 'climate': {'latitude': -36.009, 'longitude': 143.185, 'air_temperature_celcius': 28, 'relative_humidity': 48.3, 'windspeed_knots': 11.9, 'max_wind_speed': 22.0, 'precipitation ': ' 0.00I', 'GHI_w/m2': 243, 'precipitation_value': 0.0, 'precipitation_type': 'I'}}\n",
      "Message published successfully. Data: {'datetime': '03/07/2023 00:00:00', 'climate': {'latitude': -37.623, 'longitude': 149.284, 'air_temperature_celcius': 21, 'relative_humidity': 64.5, 'windspeed_knots': 10.6, 'max_wind_speed': 15.9, 'precipitation ': ' 1.26G', 'GHI_w/m2': 158, 'precipitation_value': 1.26, 'precipitation_type': 'G'}}\n",
      "Message published successfully. Data: {'datetime': '04/07/2023 00:00:00', 'climate': {'latitude': -37.457, 'longitude': 148.143, 'air_temperature_celcius': 9, 'relative_humidity': 39.0, 'windspeed_knots': 5.6, 'max_wind_speed': 8.9, 'precipitation ': ' 0.00G', 'GHI_w/m2': 84, 'precipitation_value': 0.0, 'precipitation_type': 'G'}}\n",
      "Message published successfully. Data: {'datetime': '05/07/2023 00:00:00', 'climate': {'latitude': -37.294, 'longitude': 141.232, 'air_temperature_celcius': 12, 'relative_humidity': 49.0, 'windspeed_knots': 4.6, 'max_wind_speed': 8.9, 'precipitation ': ' 0.00G', 'GHI_w/m2': 104, 'precipitation_value': 0.0, 'precipitation_type': 'G'}}\n",
      "Message published successfully. Data: {'datetime': '06/07/2023 00:00:00', 'climate': {'latitude': -37.453, 'longitude': 148.111, 'air_temperature_celcius': 11, 'relative_humidity': 45.3, 'windspeed_knots': 10.6, 'max_wind_speed': 16.9, 'precipitation ': ' 0.08G', 'GHI_w/m2': 98, 'precipitation_value': 0.08, 'precipitation_type': 'G'}}\n",
      "Message published successfully. Data: {'datetime': '07/07/2023 00:00:00', 'climate': {'latitude': -37.477, 'longitude': 148.097, 'air_temperature_celcius': 8, 'relative_humidity': 42.6, 'windspeed_knots': 2.0, 'max_wind_speed': 6.0, 'precipitation ': ' 0.00I', 'GHI_w/m2': 73, 'precipitation_value': 0.0, 'precipitation_type': 'I'}}\n",
      "Message published successfully. Data: {'datetime': '08/07/2023 00:00:00', 'climate': {'latitude': -36.4553, 'longitude': 142.8786, 'air_temperature_celcius': 19, 'relative_humidity': 55.3, 'windspeed_knots': 6.2, 'max_wind_speed': 12.0, 'precipitation ': ' 0.00I', 'GHI_w/m2': 156, 'precipitation_value': 0.0, 'precipitation_type': 'I'}}\n",
      "Message published successfully. Data: {'datetime': '09/07/2023 00:00:00', 'climate': {'latitude': -37.0745, 'longitude': 141.0692, 'air_temperature_celcius': 9, 'relative_humidity': 40.4, 'windspeed_knots': 6.9, 'max_wind_speed': 9.9, 'precipitation ': ' 0.02G', 'GHI_w/m2': 83, 'precipitation_value': 0.02, 'precipitation_type': 'G'}}\n",
      "Message published successfully. Data: {'datetime': '10/07/2023 00:00:00', 'climate': {'latitude': -37.3847, 'longitude': 142.8935, 'air_temperature_celcius': 20, 'relative_humidity': 43.6, 'windspeed_knots': 10.3, 'max_wind_speed': 15.0, 'precipitation ': ' 0.00I', 'GHI_w/m2': 181, 'precipitation_value': 0.0, 'precipitation_type': 'I'}}\n",
      "Message published successfully. Data: {'datetime': '11/07/2023 00:00:00', 'climate': {'latitude': -37.236, 'longitude': 141.176, 'air_temperature_celcius': 14, 'relative_humidity': 48.1, 'windspeed_knots': 13.7, 'max_wind_speed': 19.0, 'precipitation ': ' 0.35G', 'GHI_w/m2': 122, 'precipitation_value': 0.35, 'precipitation_type': 'G'}}\n",
      "Message published successfully. Data: {'datetime': '12/07/2023 00:00:00', 'climate': {'latitude': -37.59, 'longitude': 149.31, 'air_temperature_celcius': 19, 'relative_humidity': 57.2, 'windspeed_knots': 8.9, 'max_wind_speed': 15.0, 'precipitation ': ' 0.98G', 'GHI_w/m2': 153, 'precipitation_value': 0.98, 'precipitation_type': 'G'}}\n",
      "Message published successfully. Data: {'datetime': '13/07/2023 00:00:00', 'climate': {'latitude': -36.0313, 'longitude': 143.6296, 'air_temperature_celcius': 14, 'relative_humidity': 47.4, 'windspeed_knots': 10.6, 'max_wind_speed': 19.0, 'precipitation ': ' 0.03G', 'GHI_w/m2': 123, 'precipitation_value': 0.03, 'precipitation_type': 'G'}}\n",
      "Message published successfully. Data: {'datetime': '14/07/2023 00:00:00', 'climate': {'latitude': -38.116, 'longitude': 143.818, 'air_temperature_celcius': 10, 'relative_humidity': 46.8, 'windspeed_knots': 5.3, 'max_wind_speed': 9.9, 'precipitation ': ' 0.00I', 'GHI_w/m2': 88, 'precipitation_value': 0.0, 'precipitation_type': 'I'}}\n",
      "Message published successfully. Data: {'datetime': '15/07/2023 00:00:00', 'climate': {'latitude': -34.289, 'longitude': 141.712, 'air_temperature_celcius': 32, 'relative_humidity': 54.1, 'windspeed_knots': 12.8, 'max_wind_speed': 19.0, 'precipitation ': ' 0.00I', 'GHI_w/m2': 265, 'precipitation_value': 0.0, 'precipitation_type': 'I'}}\n",
      "Message published successfully. Data: {'datetime': '16/07/2023 00:00:00', 'climate': {'latitude': -36.096, 'longitude': 146.5016, 'air_temperature_celcius': 12, 'relative_humidity': 41.0, 'windspeed_knots': 12.9, 'max_wind_speed': 16.9, 'precipitation ': ' 0.16G', 'GHI_w/m2': 111, 'precipitation_value': 0.16, 'precipitation_type': 'G'}}\n",
      "Message published successfully. Data: {'datetime': '17/07/2023 00:00:00', 'climate': {'latitude': -36.346, 'longitude': 143.631, 'air_temperature_celcius': 17, 'relative_humidity': 47.2, 'windspeed_knots': 4.9, 'max_wind_speed': 13.0, 'precipitation ': ' 0.00I', 'GHI_w/m2': 149, 'precipitation_value': 0.0, 'precipitation_type': 'I'}}\n",
      "Message published successfully. Data: {'datetime': '18/07/2023 00:00:00', 'climate': {'latitude': -37.5865, 'longitude': 143.0246, 'air_temperature_celcius': 17, 'relative_humidity': 53.5, 'windspeed_knots': 7.3, 'max_wind_speed': 14.0, 'precipitation ': ' 0.00I', 'GHI_w/m2': 141, 'precipitation_value': 0.0, 'precipitation_type': 'I'}}\n",
      "Message published successfully. Data: {'datetime': '19/07/2023 00:00:00', 'climate': {'latitude': -37.7052, 'longitude': 144.6926, 'air_temperature_celcius': 17, 'relative_humidity': 52.7, 'windspeed_knots': 7.7, 'max_wind_speed': 14.0, 'precipitation ': ' 0.00G', 'GHI_w/m2': 142, 'precipitation_value': 0.0, 'precipitation_type': 'G'}}\n"
     ]
    },
    {
     "name": "stdout",
     "output_type": "stream",
     "text": [
      "Message published successfully. Data: {'datetime': '20/07/2023 00:00:00', 'climate': {'latitude': -37.978, 'longitude': 145.623, 'air_temperature_celcius': 21, 'relative_humidity': 59.5, 'windspeed_knots': 12.4, 'max_wind_speed': 21.0, 'precipitation ': ' 0.00I', 'GHI_w/m2': 166, 'precipitation_value': 0.0, 'precipitation_type': 'I'}}\n",
      "Message published successfully. Data: {'datetime': '21/07/2023 00:00:00', 'climate': {'latitude': -36.778, 'longitude': 145.1635, 'air_temperature_celcius': 17, 'relative_humidity': 46.3, 'windspeed_knots': 11.7, 'max_wind_speed': 20.0, 'precipitation ': ' 0.02G', 'GHI_w/m2': 150, 'precipitation_value': 0.02, 'precipitation_type': 'G'}}\n",
      "Message published successfully. Data: {'datetime': '22/07/2023 00:00:00', 'climate': {'latitude': -35.89, 'longitude': 145.606, 'air_temperature_celcius': 15, 'relative_humidity': 45.6, 'windspeed_knots': 10.2, 'max_wind_speed': 15.0, 'precipitation ': ' 0.00G', 'GHI_w/m2': 133, 'precipitation_value': 0.0, 'precipitation_type': 'G'}}\n",
      "Message published successfully. Data: {'datetime': '23/07/2023 00:00:00', 'climate': {'latitude': -37.479, 'longitude': 143.358, 'air_temperature_celcius': 23, 'relative_humidity': 60.6, 'windspeed_knots': 10.1, 'max_wind_speed': 26.0, 'precipitation ': ' 0.00I', 'GHI_w/m2': 180, 'precipitation_value': 0.0, 'precipitation_type': 'I'}}\n",
      "Message published successfully. Data: {'datetime': '24/07/2023 00:00:00', 'climate': {'latitude': -35.889, 'longitude': 145.614, 'air_temperature_celcius': 14, 'relative_humidity': 49.2, 'windspeed_knots': 10.5, 'max_wind_speed': 20.0, 'precipitation ': ' 0.12G', 'GHI_w/m2': 121, 'precipitation_value': 0.12, 'precipitation_type': 'G'}}\n",
      "Message published successfully. Data: {'datetime': '25/07/2023 00:00:00', 'climate': {'latitude': -38.116, 'longitude': 143.818, 'air_temperature_celcius': 10, 'relative_humidity': 46.8, 'windspeed_knots': 5.3, 'max_wind_speed': 9.9, 'precipitation ': ' 0.00I', 'GHI_w/m2': 88, 'precipitation_value': 0.0, 'precipitation_type': 'I'}}\n",
      "Message published successfully. Data: {'datetime': '26/07/2023 00:00:00', 'climate': {'latitude': -37.6836, 'longitude': 142.6069, 'air_temperature_celcius': 13, 'relative_humidity': 38.4, 'windspeed_knots': 11.5, 'max_wind_speed': 16.9, 'precipitation ': ' 0.00G', 'GHI_w/m2': 122, 'precipitation_value': 0.0, 'precipitation_type': 'G'}}\n",
      "Message published successfully. Data: {'datetime': '27/07/2023 00:00:00', 'climate': {'latitude': -36.9817, 'longitude': 143.5051, 'air_temperature_celcius': 14, 'relative_humidity': 44.0, 'windspeed_knots': 14.4, 'max_wind_speed': 23.9, 'precipitation ': ' 0.16G', 'GHI_w/m2': 126, 'precipitation_value': 0.16, 'precipitation_type': 'G'}}\n",
      "Message published successfully. Data: {'datetime': '28/07/2023 00:00:00', 'climate': {'latitude': -37.38, 'longitude': 149.334, 'air_temperature_celcius': 16, 'relative_humidity': 48.2, 'windspeed_knots': 9.9, 'max_wind_speed': 18.1, 'precipitation ': ' 0.01G', 'GHI_w/m2': 139, 'precipitation_value': 0.01, 'precipitation_type': 'G'}}\n",
      "Message published successfully. Data: {'datetime': '29/07/2023 00:00:00', 'climate': {'latitude': -37.1405, 'longitude': 144.1375, 'air_temperature_celcius': 20, 'relative_humidity': 60.8, 'windspeed_knots': 10.4, 'max_wind_speed': 16.9, 'precipitation ': ' 0.08G', 'GHI_w/m2': 156, 'precipitation_value': 0.08, 'precipitation_type': 'G'}}\n",
      "Message published successfully. Data: {'datetime': '30/07/2023 00:00:00', 'climate': {'latitude': -36.8741, 'longitude': 143.91, 'air_temperature_celcius': 9, 'relative_humidity': 41.9, 'windspeed_knots': 9.2, 'max_wind_speed': 14.0, 'precipitation ': ' 0.12G', 'GHI_w/m2': 82, 'precipitation_value': 0.12, 'precipitation_type': 'G'}}\n",
      "Message published successfully. Data: {'datetime': '31/07/2023 00:00:00', 'climate': {'latitude': -37.621, 'longitude': 143.447, 'air_temperature_celcius': 23, 'relative_humidity': 53.4, 'windspeed_knots': 6.1, 'max_wind_speed': 11.1, 'precipitation ': ' 0.00I', 'GHI_w/m2': 192, 'precipitation_value': 0.0, 'precipitation_type': 'I'}}\n",
      "Message published successfully. Data: {'datetime': '01/08/2023 00:00:00', 'climate': {'latitude': -37.478, 'longitude': 148.117, 'air_temperature_celcius': 11, 'relative_humidity': 43.9, 'windspeed_knots': 11.2, 'max_wind_speed': 16.9, 'precipitation ': ' 0.12G', 'GHI_w/m2': 99, 'precipitation_value': 0.12, 'precipitation_type': 'G'}}\n",
      "Message published successfully. Data: {'datetime': '02/08/2023 00:00:00', 'climate': {'latitude': -36.778, 'longitude': 145.1635, 'air_temperature_celcius': 17, 'relative_humidity': 46.3, 'windspeed_knots': 11.7, 'max_wind_speed': 20.0, 'precipitation ': ' 0.02G', 'GHI_w/m2': 150, 'precipitation_value': 0.02, 'precipitation_type': 'G'}}\n",
      "Message published successfully. Data: {'datetime': '03/08/2023 00:00:00', 'climate': {'latitude': -36.779, 'longitude': 146.108, 'air_temperature_celcius': 15, 'relative_humidity': 51.0, 'windspeed_knots': 9.6, 'max_wind_speed': 15.9, 'precipitation ': ' 0.16G', 'GHI_w/m2': 128, 'precipitation_value': 0.16, 'precipitation_type': 'G'}}\n",
      "Message published successfully. Data: {'datetime': '04/08/2023 00:00:00', 'climate': {'latitude': -37.635, 'longitude': 149.303, 'air_temperature_celcius': 24, 'relative_humidity': 53.4, 'windspeed_knots': 9.9, 'max_wind_speed': 15.9, 'precipitation ': ' 0.00I', 'GHI_w/m2': 200, 'precipitation_value': 0.0, 'precipitation_type': 'I'}}\n",
      "Message published successfully. Data: {'datetime': '05/08/2023 00:00:00', 'climate': {'latitude': -36.779, 'longitude': 146.108, 'air_temperature_celcius': 15, 'relative_humidity': 51.0, 'windspeed_knots': 9.6, 'max_wind_speed': 15.9, 'precipitation ': ' 0.16G', 'GHI_w/m2': 128, 'precipitation_value': 0.16, 'precipitation_type': 'G'}}\n",
      "Message published successfully. Data: {'datetime': '06/08/2023 00:00:00', 'climate': {'latitude': -37.587, 'longitude': 142.479, 'air_temperature_celcius': 12, 'relative_humidity': 45.1, 'windspeed_knots': 11.9, 'max_wind_speed': 18.1, 'precipitation ': ' 0.16G', 'GHI_w/m2': 107, 'precipitation_value': 0.16, 'precipitation_type': 'G'}}\n",
      "Message published successfully. Data: {'datetime': '07/08/2023 00:00:00', 'climate': {'latitude': -37.236, 'longitude': 141.176, 'air_temperature_celcius': 14, 'relative_humidity': 48.1, 'windspeed_knots': 13.7, 'max_wind_speed': 19.0, 'precipitation ': ' 0.35G', 'GHI_w/m2': 122, 'precipitation_value': 0.35, 'precipitation_type': 'G'}}\n",
      "Message published successfully. Data: {'datetime': '08/08/2023 00:00:00', 'climate': {'latitude': -38.141, 'longitude': 143.183, 'air_temperature_celcius': 23, 'relative_humidity': 54.1, 'windspeed_knots': 5.7, 'max_wind_speed': 14.0, 'precipitation ': ' 0.00I', 'GHI_w/m2': 190, 'precipitation_value': 0.0, 'precipitation_type': 'I'}}\n",
      "Message published successfully. Data: {'datetime': '09/08/2023 00:00:00', 'climate': {'latitude': -37.463, 'longitude': 148.109, 'air_temperature_celcius': 11, 'relative_humidity': 45.1, 'windspeed_knots': 5.6, 'max_wind_speed': 9.9, 'precipitation ': ' 0.00I', 'GHI_w/m2': 98, 'precipitation_value': 0.0, 'precipitation_type': 'I'}}\n",
      "Message published successfully. Data: {'datetime': '10/08/2023 00:00:00', 'climate': {'latitude': -36.9817, 'longitude': 143.5051, 'air_temperature_celcius': 14, 'relative_humidity': 44.0, 'windspeed_knots': 14.4, 'max_wind_speed': 23.9, 'precipitation ': ' 0.16G', 'GHI_w/m2': 126, 'precipitation_value': 0.16, 'precipitation_type': 'G'}}\n",
      "Message published successfully. Data: {'datetime': '11/08/2023 00:00:00', 'climate': {'latitude': -36.9194, 'longitude': 143.6131, 'air_temperature_celcius': 19, 'relative_humidity': 50.3, 'windspeed_knots': 7.7, 'max_wind_speed': 11.1, 'precipitation ': ' 0.00I', 'GHI_w/m2': 162, 'precipitation_value': 0.0, 'precipitation_type': 'I'}}\n",
      "Message published successfully. Data: {'datetime': '12/08/2023 00:00:00', 'climate': {'latitude': -37.249, 'longitude': 143.413, 'air_temperature_celcius': 14, 'relative_humidity': 47.9, 'windspeed_knots': 5.3, 'max_wind_speed': 9.9, 'precipitation ': ' 0.00I', 'GHI_w/m2': 122, 'precipitation_value': 0.0, 'precipitation_type': 'I'}}\n",
      "Message published successfully. Data: {'datetime': '13/08/2023 00:00:00', 'climate': {'latitude': -37.903, 'longitude': 145.25, 'air_temperature_celcius': 24, 'relative_humidity': 62.3, 'windspeed_knots': 7.0, 'max_wind_speed': 13.0, 'precipitation ': ' 0.00I', 'GHI_w/m2': 185, 'precipitation_value': 0.0, 'precipitation_type': 'I'}}\n"
     ]
    },
    {
     "name": "stdout",
     "output_type": "stream",
     "text": [
      "Message published successfully. Data: {'datetime': '14/08/2023 00:00:00', 'climate': {'latitude': -37.0684, 'longitude': 141.0437, 'air_temperature_celcius': 13, 'relative_humidity': 51.1, 'windspeed_knots': 6.0, 'max_wind_speed': 13.0, 'precipitation ': ' 0.12G', 'GHI_w/m2': 110, 'precipitation_value': 0.12, 'precipitation_type': 'G'}}\n",
      "Message published successfully. Data: {'datetime': '15/08/2023 00:00:00', 'climate': {'latitude': -37.34, 'longitude': 143.123, 'air_temperature_celcius': 19, 'relative_humidity': 52.8, 'windspeed_knots': 12.5, 'max_wind_speed': 21.0, 'precipitation ': ' 0.47G', 'GHI_w/m2': 159, 'precipitation_value': 0.47, 'precipitation_type': 'G'}}\n",
      "Message published successfully. Data: {'datetime': '16/08/2023 00:00:00', 'climate': {'latitude': -36.3799, 'longitude': 143.7149, 'air_temperature_celcius': 12, 'relative_humidity': 43.8, 'windspeed_knots': 6.7, 'max_wind_speed': 14.0, 'precipitation ': ' 0.16G', 'GHI_w/m2': 108, 'precipitation_value': 0.16, 'precipitation_type': 'G'}}\n",
      "Message published successfully. Data: {'datetime': '17/08/2023 00:00:00', 'climate': {'latitude': -37.446, 'longitude': 148.102, 'air_temperature_celcius': 10, 'relative_humidity': 39.4, 'windspeed_knots': 9.6, 'max_wind_speed': 14.0, 'precipitation ': ' 0.00G', 'GHI_w/m2': 93, 'precipitation_value': 0.0, 'precipitation_type': 'G'}}\n",
      "Message published successfully. Data: {'datetime': '18/08/2023 00:00:00', 'climate': {'latitude': -38.141, 'longitude': 143.183, 'air_temperature_celcius': 23, 'relative_humidity': 54.1, 'windspeed_knots': 5.7, 'max_wind_speed': 14.0, 'precipitation ': ' 0.00I', 'GHI_w/m2': 190, 'precipitation_value': 0.0, 'precipitation_type': 'I'}}\n",
      "Message published successfully. Data: {'datetime': '19/08/2023 00:00:00', 'climate': {'latitude': -36.8264, 'longitude': 142.6138, 'air_temperature_celcius': 15, 'relative_humidity': 48.2, 'windspeed_knots': 14.7, 'max_wind_speed': 25.1, 'precipitation ': ' 0.43G', 'GHI_w/m2': 131, 'precipitation_value': 0.43, 'precipitation_type': 'G'}}\n",
      "Message published successfully. Data: {'datetime': '20/08/2023 00:00:00', 'climate': {'latitude': -37.8276, 'longitude': 142.7573, 'air_temperature_celcius': 9, 'relative_humidity': 42.1, 'windspeed_knots': 7.6, 'max_wind_speed': 12.0, 'precipitation ': ' 0.01G', 'GHI_w/m2': 82, 'precipitation_value': 0.01, 'precipitation_type': 'G'}}\n",
      "Message published successfully. Data: {'datetime': '21/08/2023 00:00:00', 'climate': {'latitude': -34.282, 'longitude': 142.121, 'air_temperature_celcius': 15, 'relative_humidity': 49.1, 'windspeed_knots': 9.6, 'max_wind_speed': 16.9, 'precipitation ': ' 0.01G', 'GHI_w/m2': 130, 'precipitation_value': 0.01, 'precipitation_type': 'G'}}\n",
      "Message published successfully. Data: {'datetime': '22/08/2023 00:00:00', 'climate': {'latitude': -36.398, 'longitude': 145.286, 'air_temperature_celcius': 11, 'relative_humidity': 45.1, 'windspeed_knots': 11.5, 'max_wind_speed': 18.1, 'precipitation ': ' 0.20G', 'GHI_w/m2': 98, 'precipitation_value': 0.2, 'precipitation_type': 'G'}}\n",
      "Message published successfully. Data: {'datetime': '23/08/2023 00:00:00', 'climate': {'latitude': -35.364, 'longitude': 141.063, 'air_temperature_celcius': 15, 'relative_humidity': 51.9, 'windspeed_knots': 6.6, 'max_wind_speed': 12.0, 'precipitation ': ' 0.01G', 'GHI_w/m2': 127, 'precipitation_value': 0.01, 'precipitation_type': 'G'}}\n",
      "Message published successfully. Data: {'datetime': '24/08/2023 00:00:00', 'climate': {'latitude': -38.498, 'longitude': 146.95, 'air_temperature_celcius': 5, 'relative_humidity': 38.6, 'windspeed_knots': 1.8, 'max_wind_speed': 5.1, 'precipitation ': ' 0.00I', 'GHI_w/m2': 47, 'precipitation_value': 0.0, 'precipitation_type': 'I'}}\n",
      "Message published successfully. Data: {'datetime': '25/08/2023 00:00:00', 'climate': {'latitude': -36.8264, 'longitude': 142.6138, 'air_temperature_celcius': 15, 'relative_humidity': 48.2, 'windspeed_knots': 14.7, 'max_wind_speed': 25.1, 'precipitation ': ' 0.43G', 'GHI_w/m2': 131, 'precipitation_value': 0.43, 'precipitation_type': 'G'}}\n",
      "Message published successfully. Data: {'datetime': '26/08/2023 00:00:00', 'climate': {'latitude': -37.858, 'longitude': 143.428, 'air_temperature_celcius': 13, 'relative_humidity': 50.4, 'windspeed_knots': 7.9, 'max_wind_speed': 14.0, 'precipitation ': ' 0.00I', 'GHI_w/m2': 111, 'precipitation_value': 0.0, 'precipitation_type': 'I'}}\n",
      "Message published successfully. Data: {'datetime': '27/08/2023 00:00:00', 'climate': {'latitude': -37.47, 'longitude': 148.089, 'air_temperature_celcius': 11, 'relative_humidity': 46.4, 'windspeed_knots': 6.5, 'max_wind_speed': 8.9, 'precipitation ': ' 0.00I', 'GHI_w/m2': 97, 'precipitation_value': 0.0, 'precipitation_type': 'I'}}\n",
      "Message published successfully. Data: {'datetime': '28/08/2023 00:00:00', 'climate': {'latitude': -37.376, 'longitude': 148.042, 'air_temperature_celcius': 11, 'relative_humidity': 43.2, 'windspeed_knots': 5.5, 'max_wind_speed': 8.0, 'precipitation ': ' 0.00G', 'GHI_w/m2': 100, 'precipitation_value': 0.0, 'precipitation_type': 'G'}}\n",
      "Message published successfully. Data: {'datetime': '29/08/2023 00:00:00', 'climate': {'latitude': -37.497, 'longitude': 147.266, 'air_temperature_celcius': 10, 'relative_humidity': 41.0, 'windspeed_knots': 14.1, 'max_wind_speed': 20.0, 'precipitation ': ' 0.02G', 'GHI_w/m2': 92, 'precipitation_value': 0.02, 'precipitation_type': 'G'}}\n",
      "Message published successfully. Data: {'datetime': '30/08/2023 00:00:00', 'climate': {'latitude': -36.291, 'longitude': 146.159, 'air_temperature_celcius': 24, 'relative_humidity': 55.4, 'windspeed_knots': 5.9, 'max_wind_speed': 9.9, 'precipitation ': ' 0.00I', 'GHI_w/m2': 196, 'precipitation_value': 0.0, 'precipitation_type': 'I'}}\n",
      "Message published successfully. Data: {'datetime': '31/08/2023 00:00:00', 'climate': {'latitude': -38.5, 'longitude': 146.938, 'air_temperature_celcius': 7, 'relative_humidity': 40.7, 'windspeed_knots': 3.7, 'max_wind_speed': 7.0, 'precipitation ': ' 0.00I', 'GHI_w/m2': 65, 'precipitation_value': 0.0, 'precipitation_type': 'I'}}\n"
     ]
    },
    {
     "ename": "KeyboardInterrupt",
     "evalue": "",
     "output_type": "error",
     "traceback": [
      "\u001b[0;31m---------------------------------------------------------------------------\u001b[0m",
      "\u001b[0;31mKeyboardInterrupt\u001b[0m                         Traceback (most recent call last)",
      "Cell \u001b[0;32mIn[8], line 11\u001b[0m\n\u001b[1;32m      9\u001b[0m publish_message(producer, topic, \u001b[38;5;124m'\u001b[39m\u001b[38;5;124mjsondata\u001b[39m\u001b[38;5;124m'\u001b[39m, data)\n\u001b[1;32m     10\u001b[0m latest_date \u001b[38;5;241m=\u001b[39m latest_date \u001b[38;5;241m+\u001b[39m timedelta(days\u001b[38;5;241m=\u001b[39m\u001b[38;5;241m1\u001b[39m)\n\u001b[0;32m---> 11\u001b[0m \u001b[43msleep\u001b[49m\u001b[43m(\u001b[49m\u001b[38;5;241;43m1\u001b[39;49m\u001b[43m)\u001b[49m\n",
      "\u001b[0;31mKeyboardInterrupt\u001b[0m: "
     ]
    }
   ],
   "source": [
    "latest_date = datetime(start_date.year, start_date.month, start_date.day)\n",
    "topic = 'Climate'\n",
    "\n",
    "print('Publishing records..')\n",
    "producer = connect_kafka_producer()\n",
    "\n",
    "while True:\n",
    "    data = {\"datetime\" : str(latest_date.strftime(\"%d/%m/%Y %H:%M:%S\")), \"climate\" : climate_data[random.randrange(0,len(climate_data))]}\n",
    "    publish_message(producer, topic, 'jsondata', data)\n",
    "    latest_date = latest_date + timedelta(days=1)\n",
    "    sleep(1)"
   ]
  }
 ],
 "metadata": {
  "kernelspec": {
   "display_name": "Python 3 (ipykernel)",
   "language": "python",
   "name": "python3"
  },
  "language_info": {
   "codemirror_mode": {
    "name": "ipython",
    "version": 3
   },
   "file_extension": ".py",
   "mimetype": "text/x-python",
   "name": "python",
   "nbconvert_exporter": "python",
   "pygments_lexer": "ipython3",
   "version": "3.8.16"
  }
 },
 "nbformat": 4,
 "nbformat_minor": 5
}
